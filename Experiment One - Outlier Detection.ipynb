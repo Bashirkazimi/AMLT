{
 "cells": [
  {
   "cell_type": "markdown",
   "metadata": {},
   "source": [
    "# Experiments to test and compare outlier detection algorithms\n",
    "\n",
    "In this notebook, we test and compare the two outlier detection algorithms *kth nearest neighbor* known as *dkn*, and *One-time Sampling*.\n",
    "\n",
    "We first use a toy dataset to check if they work properly."
   ]
  },
  {
   "cell_type": "code",
   "execution_count": 1,
   "metadata": {
    "collapsed": true
   },
   "outputs": [],
   "source": [
    "import kth_NN as dkn# dee-kay-en\n",
    "import sampling # one-time sampling\n",
    "import numpy\n",
    "%matplotlib inline"
   ]
  },
  {
   "cell_type": "code",
   "execution_count": 2,
   "metadata": {
    "collapsed": false
   },
   "outputs": [],
   "source": [
    "toy = numpy.zeros(shape=(10,5)) # 10 by 5 array of zeros\n",
    "\n",
    "for i in range(0,10):\n",
    "    toy[i] = [j for j in range(i,i+5)] # initialize all rows to be close to each other\n",
    "    \n",
    "toy[5] = [j for j in range(100,105)] # change one row(sixth row) to be farther\n",
    "toy[9] = [j for j in range(1000,1005)] # change another row(10th row) to be even farther"
   ]
  },
  {
   "cell_type": "code",
   "execution_count": 106,
   "metadata": {
    "collapsed": true
   },
   "outputs": [],
   "source": [
    "# initialize parameters\n",
    "\n",
    "k=3 # to check for the 3rd nearest neighbor distance \n",
    "s=3 # to use 3 rows of toy data set as sample\n",
    "dummy_types = ['dd'] # input types (not implemented for this work yet, initialized to dummy values)\n",
    "dummy_headers = ['hed'] # headers not implemented yet, dummy value for now.\n",
    "n=2 # number of outliers that we want. (two rows were intialized differently, if it works, the two outliers\n",
    "    # should be the two rows)\n",
    "\n"
   ]
  },
  {
   "cell_type": "code",
   "execution_count": 4,
   "metadata": {
    "collapsed": false
   },
   "outputs": [
    {
     "name": "stdout",
     "output_type": "stream",
     "text": [
      "Run dee-kay-en\n",
      "Finding outliers using dee-kay-en took 0.00113487243652 seconds!\n"
     ]
    }
   ],
   "source": [
    "# the dkn model\n",
    "dkn_model = dkn.KthNN(toy,dummy_types,dummy_headers,k,n) \n",
    "dkn_model.run()\n"
   ]
  },
  {
   "cell_type": "code",
   "execution_count": 5,
   "metadata": {
    "collapsed": false
   },
   "outputs": [
    {
     "data": {
      "text/plain": [
       "[(5, array([ 100.,  101.,  102.,  103.,  104.])),\n",
       " (9, array([ 1000.,  1001.,  1002.,  1003.,  1004.]))]"
      ]
     },
     "execution_count": 5,
     "metadata": {},
     "output_type": "execute_result"
    }
   ],
   "source": [
    "# check returned outliers\n",
    "dkn_model.get_n_outliers()"
   ]
  },
  {
   "cell_type": "code",
   "execution_count": 6,
   "metadata": {
    "collapsed": false
   },
   "outputs": [
    {
     "data": {
      "text/plain": [
       "[array([ 0.,  1.,  2.,  3.,  4.]),\n",
       " array([ 1.,  2.,  3.,  4.,  5.]),\n",
       " array([ 2.,  3.,  4.,  5.,  6.]),\n",
       " array([ 3.,  4.,  5.,  6.,  7.]),\n",
       " array([ 4.,  5.,  6.,  7.,  8.]),\n",
       " array([  6.,   7.,   8.,   9.,  10.]),\n",
       " array([  7.,   8.,   9.,  10.,  11.]),\n",
       " array([  8.,   9.,  10.,  11.,  12.])]"
      ]
     },
     "execution_count": 6,
     "metadata": {},
     "output_type": "execute_result"
    }
   ],
   "source": [
    "# check the rest of the dataset\n",
    "dkn_model.filter_n_outliers()"
   ]
  },
  {
   "cell_type": "code",
   "execution_count": 7,
   "metadata": {
    "collapsed": false
   },
   "outputs": [
    {
     "name": "stdout",
     "output_type": "stream",
     "text": [
      "Run one time sampling\n",
      "Finding outliers using one time sampling took 0.000493049621582 seconds!\n"
     ]
    }
   ],
   "source": [
    "# the sampling model\n",
    "sampling_model = sampling.Sampling_Model(toy,dummy_types,dummy_headers,k,n,s)\n",
    "sampling_model.run()"
   ]
  },
  {
   "cell_type": "code",
   "execution_count": 8,
   "metadata": {
    "collapsed": false
   },
   "outputs": [
    {
     "data": {
      "text/plain": [
       "[(9, array([ 1000.,  1001.,  1002.,  1003.,  1004.])),\n",
       " (5, array([ 100.,  101.,  102.,  103.,  104.]))]"
      ]
     },
     "execution_count": 8,
     "metadata": {},
     "output_type": "execute_result"
    }
   ],
   "source": [
    "# check returned outliers (triple of (index in the data set, instance, ))\n",
    "sampling_model.get_n_outliers()"
   ]
  },
  {
   "cell_type": "code",
   "execution_count": 9,
   "metadata": {
    "collapsed": false
   },
   "outputs": [
    {
     "data": {
      "text/plain": [
       "[array([ 0.,  1.,  2.,  3.,  4.]),\n",
       " array([ 1.,  2.,  3.,  4.,  5.]),\n",
       " array([ 2.,  3.,  4.,  5.,  6.]),\n",
       " array([ 3.,  4.,  5.,  6.,  7.]),\n",
       " array([ 4.,  5.,  6.,  7.,  8.]),\n",
       " array([  6.,   7.,   8.,   9.,  10.]),\n",
       " array([  7.,   8.,   9.,  10.,  11.]),\n",
       " array([  8.,   9.,  10.,  11.,  12.])]"
      ]
     },
     "execution_count": 9,
     "metadata": {},
     "output_type": "execute_result"
    }
   ],
   "source": [
    "# check the rest\n",
    "sampling_model.filter_n_outliers()"
   ]
  },
  {
   "cell_type": "markdown",
   "metadata": {},
   "source": [
    "## Inferences\n",
    "As can be seen, both the models return the two rows that are initialized differently, as the two outliers. Also, as expected, the *dkn* model takes 0.00113487243652 seconds while the sampling model takes 0.000493049621582 seconds to compute, and this is just a small toy data set. The difference would be **huge** in larger data set."
   ]
  },
  {
   "cell_type": "markdown",
   "metadata": {},
   "source": [
    "## Results for Basketball data\n",
    "Now that things seem to work properly, we try to compare both the models on the real datasets; first the Basketball statistics data taken from [here](http://basketballvalue.com/downloads.php). We preprocess the data to exclude strings (names, states, etc) and NaN values and only use the real values to detect outliers."
   ]
  },
  {
   "cell_type": "code",
   "execution_count": 11,
   "metadata": {
    "collapsed": false
   },
   "outputs": [
    {
     "data": {
      "text/plain": [
       "array([[  1.00000000e+00,   9.45466700e+02,   1.79200000e+03, ...,\n",
       "          1.29100000e+03,   3.65900000e-01,   6.78900000e-01],\n",
       "       [  2.00000000e+00,   7.11950000e+02,   1.36600000e+03, ...,\n",
       "          1.39000000e+03,   3.27500000e-01,   6.57200000e-01],\n",
       "       [  3.00000000e+00,   6.81500000e+01,   1.28000000e+02, ...,\n",
       "          1.65400000e+03,   3.07400000e-01,   6.85600000e-01],\n",
       "       ..., \n",
       "       [  1.02900000e+03,   1.80166700e+02,   3.26000000e+02, ...,\n",
       "          1.81300000e+03,   3.32200000e-01,   6.72000000e-01],\n",
       "       [  1.03000000e+03,   3.87000000e+01,   7.40000000e+01, ...,\n",
       "          2.03400000e+03,   3.03200000e-01,   6.84000000e-01],\n",
       "       [  1.03100000e+03,   2.81333000e+01,   5.10000000e+01, ...,\n",
       "          2.00300000e+03,   3.57800000e-01,   6.59700000e-01]])"
      ]
     },
     "execution_count": 11,
     "metadata": {},
     "output_type": "execute_result"
    }
   ],
   "source": [
    "import pandas as pd\n",
    "\n",
    "df = pd.read_csv(\"playerstats20120510040.txt\", sep=\"\\t\") # read data\n",
    "df.drop('AdjustedPM', axis=1, inplace=True) # drop nan columns\n",
    "df.drop('AdjustedPMStdErr', axis=1, inplace=True) # drop non columns\n",
    "\n",
    "numpy_array = df.as_matrix() # change to numpy array \n",
    "\n",
    "\n",
    "indices = [i for i in range(0,37) if (i < 1 or i> 2)] # exclude string  columns\n",
    "numpy_array = numpy_array[:,indices]\n",
    "\n",
    "data = numpy.zeros(shape=(len(numpy_array), len(numpy_array[0]))) # remove the dtype from the data (to feed to algorithms)\n",
    "\n",
    "data[:] = numpy_array[0:len(numpy_array),0:len(numpy_array[0])]\n",
    "data = numpy.transpose(data)\n",
    "data = data[~numpy.isnan(data).any(axis=1)] # Transpose to exclude nan columns\n",
    "\n",
    "data = numpy.transpose(data) # transpose back\n",
    "\n"
   ]
  },
  {
   "cell_type": "markdown",
   "metadata": {},
   "source": [
    "## Comparison method for Basketball Data\n",
    "\n",
    "Since there are a lot of instances in the data set and they are not labelled and we cannot predict which ones are outliers, we cannot compute the accuracy of the models in predicting outliers. What we can do though is measure the time they take for different data set size, and also we can check some random instances from the set of outliers detected and compare their values with some random instances that are not detected as outliers. This way we can see the difference.\n",
    "\n"
   ]
  },
  {
   "cell_type": "code",
   "execution_count": 12,
   "metadata": {
    "collapsed": false
   },
   "outputs": [
    {
     "data": {
      "text/plain": [
       "479"
      ]
     },
     "execution_count": 12,
     "metadata": {},
     "output_type": "execute_result"
    }
   ],
   "source": [
    "len(data)"
   ]
  },
  {
   "cell_type": "code",
   "execution_count": 34,
   "metadata": {
    "collapsed": false
   },
   "outputs": [
    {
     "name": "stdout",
     "output_type": "stream",
     "text": [
      "Run dee-kay-en\n",
      "Finding outliers using dee-kay-en took 0.158178091049 seconds!\n",
      "Run one time sampling\n",
      "Finding outliers using one time sampling took 0.130405902863 seconds!\n",
      "Run dee-kay-en\n",
      "Finding outliers using dee-kay-en took 0.496486186981 seconds!\n",
      "Run one time sampling\n",
      "Finding outliers using one time sampling took 0.208925962448 seconds!\n",
      "Run dee-kay-en\n",
      "Finding outliers using dee-kay-en took 1.00201797485 seconds!\n",
      "Run one time sampling\n",
      "Finding outliers using one time sampling took 0.526949882507 seconds!\n",
      "Run dee-kay-en\n",
      "Finding outliers using dee-kay-en took 1.78954195976 seconds!\n",
      "Run one time sampling\n",
      "Finding outliers using one time sampling took 0.426115989685 seconds!\n",
      "Run dee-kay-en\n",
      "Finding outliers using dee-kay-en took 2.56592297554 seconds!\n",
      "Run one time sampling\n",
      "Finding outliers using one time sampling took 0.540350914001 seconds!\n"
     ]
    }
   ],
   "source": [
    "# We try to run the tests 5 times, using 100, 200, 300, 400, and finally 479 instances from the data set, to see\n",
    "# how the computation time changes for the two algorithms as the size of data grows.\n",
    "computation_time_dkn = [] # keep track of computation time at each run\n",
    "computation_time_sampling = []\n",
    "k = 5 # 5th nearest neighbor\n",
    "s = 30 # sample size\n",
    "n = 10 # 10 outliers\n",
    "size = 100\n",
    "for i in range(0,5):\n",
    "    if i==4:\n",
    "        size = 479\n",
    "    partial_data = data[0:size,:]\n",
    "    # the dkn model\n",
    "    dkn_model_basketball = dkn.KthNN(partial_data,dummy_types,dummy_headers,k,n) \n",
    "    dkn_model_basketball.run()\n",
    "    computation_time_dkn.append(dkn_model_basketball.get_running_time() )\n",
    "    # the sampling model\n",
    "    sampling_model_basketball = sampling.Sampling_Model(partial_data,dummy_types,dummy_headers,k,n,s) \n",
    "    sampling_model_basketball.run()\n",
    "    computation_time_sampling.append(sampling_model_basketball.get_running_time() )\n",
    "    size = size+100\n",
    "    "
   ]
  },
  {
   "cell_type": "code",
   "execution_count": 35,
   "metadata": {
    "collapsed": false
   },
   "outputs": [
    {
     "data": {
      "image/png": "[encoded data removed]",
      "text/plain": [
       "<matplotlib.figure.Figure at 0x11da18090>"
      ]
     },
     "metadata": {},
     "output_type": "display_data"
    }
   ],
   "source": [
    "import matplotlib.pyplot as plt\n",
    "import numpy as np\n",
    "\n",
    "x = [100,200,300,400,479]\n",
    "\n",
    "axes = plt.gca()\n",
    "plt.gca().set_color_cycle(['red', 'green'])\n",
    "\n",
    "plt.plot(x, computation_time_dkn)\n",
    "plt.plot(x, computation_time_sampling)\n",
    "plt.xlabel('Size of data set')\n",
    "plt.ylabel('Computational time')\n",
    "\n",
    "plt.legend(['Dkn Model', 'One-time Sampling Modle'], loc='upper left')\n",
    "axes.set_ylim([-1,3])\n",
    "\n",
    "plt.show()"
   ]
  },
  {
   "cell_type": "code",
   "execution_count": 36,
   "metadata": {
    "collapsed": false
   },
   "outputs": [
    {
     "data": {
      "text/plain": [
       "[0.15817618370056152,\n",
       " 0.49648404121398926,\n",
       " 1.0020158290863037,\n",
       " 1.789539098739624,\n",
       " 2.5659210681915283]"
      ]
     },
     "execution_count": 36,
     "metadata": {},
     "output_type": "execute_result"
    }
   ],
   "source": [
    "computation_time_dkn"
   ]
  },
  {
   "cell_type": "code",
   "execution_count": 37,
   "metadata": {
    "collapsed": false
   },
   "outputs": [
    {
     "data": {
      "text/plain": [
       "[0.13039708137512207,\n",
       " 0.2089240550994873,\n",
       " 0.5269467830657959,\n",
       " 0.4261140823364258,\n",
       " 0.540349006652832]"
      ]
     },
     "execution_count": 37,
     "metadata": {},
     "output_type": "execute_result"
    }
   ],
   "source": [
    "computation_time_sampling"
   ]
  },
  {
   "cell_type": "markdown",
   "metadata": {},
   "source": [
    "## Inferences about the two models based on Basketball Data\n",
    "As can be seen from the graph and values of computation time for the two models, as the data size grows, the difference in computational time gets even bigger. One-time Sampling algorithm is computationally quite efficient."
   ]
  },
  {
   "cell_type": "markdown",
   "metadata": {},
   "source": [
    "### Correctness of outlier detection\n",
    "We do not have the data instances labelled as outlier or inlier, but we can select two random outliers detected by our models and compare it with twp random instances that are not outliers and compare their values against each other to see the difference. "
   ]
  },
  {
   "cell_type": "code",
   "execution_count": 78,
   "metadata": {
    "collapsed": false
   },
   "outputs": [
    {
     "data": {
      "text/plain": [
       "array([  7.70000000e+02,   2.05916700e+02,   3.93000000e+02,\n",
       "         3.95000000e+02,   3.97000000e+02,   3.75000000e+02,\n",
       "         8.70000000e+01,   9.00000000e+01,   1.42000000e+02,\n",
       "         1.34000000e+02,   2.98208330e+03,   5.65800000e+03,\n",
       "         5.66300000e+03,   5.87200000e+03,   5.76100000e+03,\n",
       "         1.03782000e+02,   1.01730000e+02,   2.05170000e+00,\n",
       "         1.09200000e+03,   9.65000000e+02,   1.95400000e+03,\n",
       "         1.98300000e+03,   3.55100000e-01,   6.69400000e-01])"
      ]
     },
     "execution_count": 78,
     "metadata": {},
     "output_type": "execute_result"
    }
   ],
   "source": [
    "import random\n",
    "myRange = random.sample(range(0, len(dkn_model_basketball.get_n_outliers())), 2) # random outlier index\n",
    "dkn_outliers = [d[1] for d in [dkn_model_basketball.get_n_outliers()[e] for e in myRange]  ] # random outliers\n",
    "\n",
    "myRange = random.sample(range(0, len(dkn_model_basketball.filter_n_outliers())), 2) # random inlier index\n",
    "dkn_inliers = [d for d in [dkn_model_basketball.filter_n_outliers()[e] for e in myRange]  ] # random inliers\n",
    "\n",
    "dkn_inliers[0]"
   ]
  },
  {
   "cell_type": "code",
   "execution_count": 79,
   "metadata": {
    "collapsed": false
   },
   "outputs": [
    {
     "data": {
      "image/png": "[encoded data removed]",
      "text/plain": [
       "<matplotlib.figure.Figure at 0x11d58ba90>"
      ]
     },
     "metadata": {},
     "output_type": "display_data"
    }
   ],
   "source": [
    "\n",
    "y = [dkn_outliers[0] ,dkn_outliers[1], dkn_inliers[0] ,dkn_inliers[1] ]\n",
    "x = [1,2,3,4] # 1 and 2 are outliers, 3 and 4 are inliers\n",
    "\n",
    "for xe, ye in zip(x, y):\n",
    "    plt.scatter([xe] * len(ye), ye)\n",
    "\n",
    "plt.xticks([1, 2, 3, 4])\n",
    "plt.axes().set_xticklabels(['outlier1', 'outlier2', 'inlier1', 'inlier2'])\n",
    "\n",
    "plt.show()"
   ]
  },
  {
   "cell_type": "code",
   "execution_count": 84,
   "metadata": {
    "collapsed": false
   },
   "outputs": [
    {
     "data": {
      "text/plain": [
       "array([  1.00000000e+00,   9.45466700e+02,   1.79200000e+03,\n",
       "         1.80000000e+03,   1.86200000e+03,   1.90400000e+03,\n",
       "         3.70000000e+02,   3.04000000e+02,   6.18000000e+02,\n",
       "         6.30000000e+02,   1.97953330e+03,   3.79700000e+03,\n",
       "         3.78400000e+03,   4.03400000e+03,   4.02300000e+03,\n",
       "         1.06242000e+02,   1.06316000e+02,  -7.43000000e-02,\n",
       "         7.45000000e+02,   6.50000000e+02,   1.37400000e+03,\n",
       "         1.29100000e+03,   3.65900000e-01,   6.78900000e-01])"
      ]
     },
     "execution_count": 84,
     "metadata": {},
     "output_type": "execute_result"
    }
   ],
   "source": [
    "myRange = random.sample(range(0, len(sampling_model_basketball.get_n_outliers())), 2) # random outlier index\n",
    "sampling_outliers = [d[1] for d in [sampling_model_basketball.get_n_outliers()[e] for e in myRange]  ] # random outliers\n",
    "\n",
    "myRange = random.sample(range(0, len(sampling_model_basketball.filter_n_outliers())), 2) # random inlier index\n",
    "sampling_inliers = [d for d in [sampling_model_basketball.filter_n_outliers()[e] for e in myRange]  ] # random inliers\n",
    "\n",
    "sampling_inliers[0]"
   ]
  },
  {
   "cell_type": "code",
   "execution_count": 85,
   "metadata": {
    "collapsed": false
   },
   "outputs": [
    {
     "data": {
      "image/png": "[encoded data removed]",
      "text/plain": [
       "<matplotlib.figure.Figure at 0x11e152090>"
      ]
     },
     "metadata": {},
     "output_type": "display_data"
    }
   ],
   "source": [
    "y = [sampling_outliers[0] ,sampling_outliers[1], sampling_inliers[0] ,sampling_inliers[1] ]\n",
    "x = [1,2,3,4] # 1 and 2 are outliers, 3 and 4 are inliers\n",
    "\n",
    "for xe, ye in zip(x, y):\n",
    "    plt.scatter([xe] * len(ye), ye)\n",
    "\n",
    "plt.xticks([1, 2, 3, 4])\n",
    "plt.axes().set_xticklabels(['outlier1', 'outlier2', 'inlier1', 'inlier2'])\n",
    "\n",
    "plt.show()"
   ]
  },
  {
   "cell_type": "markdown",
   "metadata": {},
   "source": [
    "# Results from the scripts in How I Met Your Mother\n",
    "\n",
    "I tested the two models on the scripts in the TV series; How I Met Your Mother. The data set was taken from [here](https://github.com/mneedham/neo4j-himym/blob/master/data/import/sentences.csv). The following script by [Mark Needham](http://www.markhneedham.com/blog/2015/02/15/pythonscikit-learn-calculating-tfidf-on-how-i-met-your-mother-transcripts/) has been used to calculate the tfidf (term frequency inverse document frequency) for each episode. I have then transformed the tfidf scores to format accepted by the two implemented algorithms."
   ]
  },
  {
   "cell_type": "code",
   "execution_count": 87,
   "metadata": {
    "collapsed": false
   },
   "outputs": [],
   "source": [
    "# script from Mark Needham to calculate tfidf\n",
    "import csv\n",
    "from sklearn.feature_extraction.text import TfidfVectorizer\n",
    "from collections import defaultdict\n",
    "\n",
    "episodes = defaultdict(list)\n",
    "with open(\"himym\", \"r\") as sentences_file:\n",
    "    reader = csv.reader(sentences_file, delimiter=',')\n",
    "    reader.next()\n",
    "    for row in reader:\n",
    "        episodes[row[1]].append(row[4])\n",
    " \n",
    "for episode_id, text in episodes.iteritems():\n",
    "    episodes[episode_id] = \"\".join(text)\n",
    " \n",
    "corpus = []\n",
    "for id, episode in sorted(episodes.iteritems(), key=lambda t: int(t[0])):\n",
    "    corpus.append(episode)\n",
    "tf = TfidfVectorizer(analyzer='word', ngram_range=(1,3), min_df = 0, stop_words = 'english')  \n",
    "tfidf_matrix =  tf.fit_transform(corpus)\n",
    "feature_names = tf.get_feature_names() "
   ]
  },
  {
   "cell_type": "code",
   "execution_count": 91,
   "metadata": {
    "collapsed": false
   },
   "outputs": [],
   "source": [
    "# preprocess to format data into accepted format by the algorithms\n",
    "\n",
    "tfidf_array = tfidf_matrix.toarray() # change to numpy\n",
    "\n",
    "rows = tfidf_array.shape[0]\n",
    "cols = tfidf_array.shape[1]\n",
    "cols = cols+1 # we use the first column in each row to identify each instance of the data\n",
    "data = numpy.zeros(shape=(rows,cols))\n",
    "data[:,0] = range(0,rows) # set ID's for data instances\n",
    "data[:,1:] = tfidf_array"
   ]
  },
  {
   "cell_type": "code",
   "execution_count": 95,
   "metadata": {
    "collapsed": false
   },
   "outputs": [
    {
     "name": "stdout",
     "output_type": "stream",
     "text": [
      "Run dee-kay-en\n",
      "Finding outliers using dee-kay-en took 128.522828102 seconds!\n",
      "Run one time sampling\n",
      "Finding outliers using one time sampling took 87.7343039513 seconds!\n",
      "Run dee-kay-en\n",
      "Finding outliers using dee-kay-en took 427.147110939 seconds!\n",
      "Run one time sampling\n",
      "Finding outliers using one time sampling took 144.394839048 seconds!\n",
      "Run dee-kay-en\n",
      "Finding outliers using dee-kay-en took 889.542392969 seconds!\n",
      "Run one time sampling\n",
      "Finding outliers using one time sampling took 246.490548849 seconds!\n",
      "Run dee-kay-en\n",
      "Finding outliers using dee-kay-en took 1945.20552301 seconds!\n",
      "Run one time sampling\n",
      "Finding outliers using one time sampling took 358.080737829 seconds!\n",
      "Run dee-kay-en\n",
      "Finding outliers using dee-kay-en took 2940.75869989 seconds!\n",
      "Run one time sampling\n",
      "Finding outliers using one time sampling took 413.421524048 seconds!\n"
     ]
    }
   ],
   "source": [
    "# We try to run the tests 5 times, using 40, 80, 120, 160, and finally 208 instances from the data set, to see\n",
    "# how the computation time changes for the two algorithms as the size of data grows.\n",
    "computation_time_dkn_himym = [] # keep track of computation time at each run\n",
    "computation_time_sampling_himym = []\n",
    "k = 5 # 5th nearest neighbor\n",
    "s = 30 # sample size\n",
    "n = 10 # 10 outliers\n",
    "size = 40\n",
    "for i in range(0,5):\n",
    "    if i==4:\n",
    "        size = 208\n",
    "    partial_data = data[0:size,:]\n",
    "    # the dkn model\n",
    "    dkn_model_himym = dkn.KthNN(partial_data,dummy_types,dummy_headers,k,n) \n",
    "    dkn_model_himym.run()\n",
    "    computation_time_dkn_himym.append(dkn_model_himym.get_running_time() )\n",
    "    # the sampling model\n",
    "    sampling_model_himym = sampling.Sampling_Model(partial_data,dummy_types,dummy_headers,k,n,s) \n",
    "    sampling_model_himym.run()\n",
    "    computation_time_sampling_himym.append(sampling_model_himym.get_running_time() )\n",
    "    size = size+40\n",
    "    "
   ]
  },
  {
   "cell_type": "code",
   "execution_count": 96,
   "metadata": {
    "collapsed": false
   },
   "outputs": [
    {
     "data": {
      "image/png": "[encoded data removed]",
      "text/plain": [
       "<matplotlib.figure.Figure at 0x11dc85b10>"
      ]
     },
     "metadata": {},
     "output_type": "display_data"
    }
   ],
   "source": [
    "\n",
    "\n",
    "x = [40,80,120,160,208]\n",
    "\n",
    "axes = plt.gca()\n",
    "plt.gca().set_color_cycle(['red', 'green'])\n",
    "\n",
    "plt.plot(x, computation_time_dkn_himym)\n",
    "plt.plot(x, computation_time_sampling_himym)\n",
    "plt.xlabel('Size of data set')\n",
    "plt.ylabel('Computational time')\n",
    "\n",
    "plt.legend(['Dkn Model', 'One-time Sampling Modle'], loc='upper left')\n",
    "axes.set_ylim([100,3000])\n",
    "\n",
    "plt.show()"
   ]
  },
  {
   "cell_type": "code",
   "execution_count": 97,
   "metadata": {
    "collapsed": false
   },
   "outputs": [
    {
     "data": {
      "text/plain": [
       "[128.52278804779053,\n",
       " 427.1470890045166,\n",
       " 889.5423359870911,\n",
       " 1945.2054469585419,\n",
       " 2940.7586300373077]"
      ]
     },
     "execution_count": 97,
     "metadata": {},
     "output_type": "execute_result"
    }
   ],
   "source": [
    "computation_time_dkn_himym # in seconds"
   ]
  },
  {
   "cell_type": "markdown",
   "metadata": {},
   "source": [
    "## Inferences about the two models based on Basketball Data\n",
    "As can be seen from the graph and values of computation time for the two models, as the data size grows, the difference in computational time gets even bigger. One-time Sampling algorithm is computationally quite efficient."
   ]
  },
  {
   "cell_type": "markdown",
   "metadata": {},
   "source": [
    "### Correctness of outlier detection\n",
    "We do not have the data instances labelled as outlier or inlier, but we can select two random outliers detected by our models and compare it with twp random instances that are not outliers and compare their values against each other to see the difference. "
   ]
  },
  {
   "cell_type": "code",
   "execution_count": 99,
   "metadata": {
    "collapsed": false
   },
   "outputs": [
    {
     "data": {
      "text/plain": [
       "[(167, array([ 167.,    0.,    0., ...,    0.,    0.,    0.])),\n",
       " (178, array([ 178.,    0.,    0., ...,    0.,    0.,    0.])),\n",
       " (143, array([ 143.,    0.,    0., ...,    0.,    0.,    0.])),\n",
       " (148, array([ 148.,    0.,    0., ...,    0.,    0.,    0.])),\n",
       " (182, array([  1.82000000e+02,   6.46361866e-03,   0.00000000e+00, ...,\n",
       "           0.00000000e+00,   0.00000000e+00,   0.00000000e+00])),\n",
       " (140, array([  1.40000000e+02,   1.26115154e-02,   0.00000000e+00, ...,\n",
       "           0.00000000e+00,   0.00000000e+00,   0.00000000e+00])),\n",
       " (51, array([  5.10000000e+01,   6.80515015e-03,   0.00000000e+00, ...,\n",
       "           0.00000000e+00,   0.00000000e+00,   0.00000000e+00])),\n",
       " (190, array([ 190.,    0.,    0., ...,    0.,    0.,    0.])),\n",
       " (174, array([ 174.,    0.,    0., ...,    0.,    0.,    0.])),\n",
       " (150, array([ 150.,    0.,    0., ...,    0.,    0.,    0.]))]"
      ]
     },
     "execution_count": 99,
     "metadata": {},
     "output_type": "execute_result"
    }
   ],
   "source": [
    "dkn_model_himym.get_n_outliers()"
   ]
  },
  {
   "cell_type": "code",
   "execution_count": 98,
   "metadata": {
    "collapsed": false
   },
   "outputs": [
    {
     "data": {
      "text/plain": [
       "array([ 12.,   0.,   0., ...,   0.,   0.,   0.])"
      ]
     },
     "execution_count": 98,
     "metadata": {},
     "output_type": "execute_result"
    }
   ],
   "source": [
    "myRange = random.sample(range(0, len(dkn_model_himym.get_n_outliers())), 2) # random outlier index\n",
    "dkn_outliers = [d[1] for d in [dkn_model_himym.get_n_outliers()[e] for e in myRange]  ] # random outliers\n",
    "\n",
    "myRange = random.sample(range(0, len(dkn_model_himym.filter_n_outliers())), 2) # random inlier index\n",
    "dkn_inliers = [d for d in [dkn_model_himym.filter_n_outliers()[e] for e in myRange]  ] # random inliers\n",
    "\n",
    "dkn_inliers[0]"
   ]
  },
  {
   "cell_type": "code",
   "execution_count": 100,
   "metadata": {
    "collapsed": false
   },
   "outputs": [
    {
     "data": {
      "image/png": "[encoded data removed]",
      "text/plain": [
       "<matplotlib.figure.Figure at 0x11deb94d0>"
      ]
     },
     "metadata": {},
     "output_type": "display_data"
    }
   ],
   "source": [
    "\n",
    "y = [dkn_outliers[0] ,dkn_outliers[1], dkn_inliers[0] ,dkn_inliers[1] ]\n",
    "x = [1,2,3,4] # 1 and 2 are outliers, 3 and 4 are inliers\n",
    "\n",
    "for xe, ye in zip(x, y):\n",
    "    plt.scatter([xe] * len(ye), ye)\n",
    "\n",
    "plt.xticks([1, 2, 3, 4])\n",
    "plt.axes().set_xticklabels(['outlier1', 'outlier2', 'inlier1', 'inlier2'])\n",
    "\n",
    "plt.show()"
   ]
  },
  {
   "cell_type": "code",
   "execution_count": 104,
   "metadata": {
    "collapsed": false
   },
   "outputs": [
    {
     "data": {
      "text/plain": [
       "array([ 118.,    0.,    0., ...,    0.,    0.,    0.])"
      ]
     },
     "execution_count": 104,
     "metadata": {},
     "output_type": "execute_result"
    }
   ],
   "source": [
    "myRange = random.sample(range(0, len(sampling_model_himym.get_n_outliers())), 2) # random outlier index\n",
    "sampling_outliers = [d[1] for d in [sampling_model_himym.get_n_outliers()[e] for e in myRange]  ] # random outliers\n",
    "\n",
    "myRange = random.sample(range(0, len(sampling_model_himym.filter_n_outliers())), 2) # random inlier index\n",
    "sampling_inliers = [d for d in [sampling_model_himym.filter_n_outliers()[e] for e in myRange]  ] # random inliers\n",
    "\n",
    "sampling_inliers[0]"
   ]
  },
  {
   "cell_type": "code",
   "execution_count": 102,
   "metadata": {
    "collapsed": false
   },
   "outputs": [
    {
     "data": {
      "text/plain": [
       "[(159, array([  1.59000000e+02,   6.95284758e-03,   0.00000000e+00, ...,\n",
       "           0.00000000e+00,   0.00000000e+00,   0.00000000e+00])),\n",
       " (152, array([  1.52000000e+02,   3.65203934e-02,   0.00000000e+00, ...,\n",
       "           0.00000000e+00,   0.00000000e+00,   0.00000000e+00])),\n",
       " (56, array([ 56.,   0.,   0., ...,   0.,   0.,   0.])),\n",
       " (57, array([ 57.,   0.,   0., ...,   0.,   0.,   0.])),\n",
       " (89, array([  8.90000000e+01,   4.42611716e-03,   0.00000000e+00, ...,\n",
       "           0.00000000e+00,   0.00000000e+00,   0.00000000e+00])),\n",
       " (72, array([ 72.,   0.,   0., ...,   0.,   0.,   0.])),\n",
       " (84, array([ 84.,   0.,   0., ...,   0.,   0.,   0.])),\n",
       " (192, array([ 192.,    0.,    0., ...,    0.,    0.,    0.])),\n",
       " (8, array([ 8.,  0.,  0., ...,  0.,  0.,  0.])),\n",
       " (67, array([ 67.,   0.,   0., ...,   0.,   0.,   0.]))]"
      ]
     },
     "execution_count": 102,
     "metadata": {},
     "output_type": "execute_result"
    }
   ],
   "source": [
    "sampling_model_himym.get_n_outliers()"
   ]
  },
  {
   "cell_type": "code",
   "execution_count": 105,
   "metadata": {
    "collapsed": false
   },
   "outputs": [
    {
     "data": {
      "image/png": "[encoded data removed]",
      "text/plain": [
       "<matplotlib.figure.Figure at 0x11dc85750>"
      ]
     },
     "metadata": {},
     "output_type": "display_data"
    }
   ],
   "source": [
    "y = [sampling_outliers[0] ,sampling_outliers[1], sampling_inliers[0] ,sampling_inliers[1] ]\n",
    "x = [1,2,3,4] # 1 and 2 are outliers, 3 and 4 are inliers\n",
    "\n",
    "for xe, ye in zip(x, y):\n",
    "    plt.scatter([xe] * len(ye), ye)\n",
    "\n",
    "plt.xticks([1, 2, 3, 4])\n",
    "plt.axes().set_xticklabels(['outlier1', 'outlier2', 'inlier1', 'inlier2'])\n",
    "\n",
    "plt.show()"
   ]
  }
 ],
 "metadata": {
  "kernelspec": {
   "display_name": "Python 2",
   "language": "python",
   "name": "python2"
  },
  "language_info": {
   "codemirror_mode": {
    "name": "ipython",
    "version": 2
   },
   "file_extension": ".py",
   "mimetype": "text/x-python",
   "name": "python",
   "nbconvert_exporter": "python",
   "pygments_lexer": "ipython2",
   "version": "2.7.13"
  }
 },
 "nbformat": 4,
 "nbformat_minor": 0
}
