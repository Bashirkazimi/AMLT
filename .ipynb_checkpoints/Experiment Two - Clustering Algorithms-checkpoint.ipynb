{
 "cells": [
  {
   "cell_type": "markdown",
   "metadata": {},
   "source": [
    "# Experiments to test and compare clustering algorithms\n",
    "\n",
    "In this notebook, we test and compare the clustering algorithms *K-Means* , and *Bisecing K-Means* implemented in this project, and some agglomerative clustering methods from sklearn library.\n",
    "\n",
    "We first use a toy dataset to check if they work properly."
   ]
  },
  {
   "cell_type": "code",
   "execution_count": 1,
   "metadata": {
    "collapsed": true
   },
   "outputs": [],
   "source": [
    "import numpy\n",
    "%matplotlib inline\n",
    "\n",
    "import kmeans_numpy as km \n",
    "import bikmean_numpy as bkm\n",
    "\n",
    "km = reload(km)\n",
    "bkm = reload(bkm)"
   ]
  },
  {
   "cell_type": "code",
   "execution_count": 2,
   "metadata": {
    "collapsed": true
   },
   "outputs": [],
   "source": [
    "toy = numpy.zeros(shape=(10,5)) # 10 by 5 array of zeros\n",
    "\n",
    "for i in range(0,10):\n",
    "    toy[i] = [j for j in range(i,i+5)] # initialize all rows to be close to each other\n",
    "    \n",
    "toy[5] = [j for j in range(100,105)] # change one row(sixth row) to be farther\n",
    "toy[9] = [j for j in range(1000,1005)] # change another row(10th row) to be even farther"
   ]
  },
  {
   "cell_type": "code",
   "execution_count": 3,
   "metadata": {
    "collapsed": true
   },
   "outputs": [],
   "source": [
    "# initialize parameters\n",
    "\n",
    "k=3 # number of clusters\n",
    "dummy_types = ['dd'] # input types (not implemented for this work yet, initialized to dummy values)\n",
    "dummy_headers = ['hed'] # headers not implemented yet, dummy value for now.\n",
    "n=10 # number of iterations\n"
   ]
  },
  {
   "cell_type": "code",
   "execution_count": 4,
   "metadata": {
    "collapsed": false
   },
   "outputs": [
    {
     "name": "stdout",
     "output_type": "stream",
     "text": [
      "Run k-means\n",
      "Regular KMeans took 0.00665593147278 seconds!\n"
     ]
    }
   ],
   "source": [
    "kmeans_model = km.KMeansModel(toy,dummy_types,dummy_headers,k,n) # Kmeans Model\n",
    "kmeans_model.run()"
   ]
  },
  {
   "cell_type": "code",
   "execution_count": 5,
   "metadata": {
    "collapsed": false
   },
   "outputs": [
    {
     "data": {
      "text/plain": [
       "{0: array([[  0.,   1.,   2.,   3.,   4.],\n",
       "        [  1.,   2.,   3.,   4.,   5.],\n",
       "        [  2.,   3.,   4.,   5.,   6.],\n",
       "        [  3.,   4.,   5.,   6.,   7.],\n",
       "        [  4.,   5.,   6.,   7.,   8.],\n",
       "        [  6.,   7.,   8.,   9.,  10.],\n",
       "        [  7.,   8.,   9.,  10.,  11.],\n",
       "        [  8.,   9.,  10.,  11.,  12.]]),\n",
       " 1: array([ 100.,  101.,  102.,  103.,  104.]),\n",
       " 2: array([ 1000.,  1001.,  1002.,  1003.,  1004.])}"
      ]
     },
     "execution_count": 5,
     "metadata": {},
     "output_type": "execute_result"
    }
   ],
   "source": [
    "kmeans_model.get_clusters()"
   ]
  },
  {
   "cell_type": "code",
   "execution_count": 6,
   "metadata": {
    "collapsed": false
   },
   "outputs": [
    {
     "name": "stdout",
     "output_type": "stream",
     "text": [
      "Run bisecting k-means\n",
      "Run k-means\n",
      "Regular KMeans took 0.00676202774048 seconds!\n",
      "Run k-means\n",
      "Regular KMeans took 0.00284910202026 seconds!\n",
      "Run k-means\n",
      "Regular KMeans took 0.00195407867432 seconds!\n",
      "Bisecting KMeans took 0.0121529102325 seconds!\n"
     ]
    }
   ],
   "source": [
    "bi_kmeans_model = bkm.BisectingKMeansModel(toy,dummy_types,dummy_headers,k,n) # Kmeans Model\n",
    "bi_kmeans_model.run()"
   ]
  },
  {
   "cell_type": "code",
   "execution_count": 7,
   "metadata": {
    "collapsed": false
   },
   "outputs": [
    {
     "data": {
      "text/plain": [
       "{0: array([ 1000.,  1001.,  1002.,  1003.,  1004.]),\n",
       " 1: array([ 100.,  101.,  102.,  103.,  104.]),\n",
       " 2: array([[  4.,   5.,   6.,   7.,   8.],\n",
       "        [  6.,   7.,   8.,   9.,  10.],\n",
       "        [  7.,   8.,   9.,  10.,  11.],\n",
       "        [  8.,   9.,  10.,  11.,  12.]])}"
      ]
     },
     "execution_count": 7,
     "metadata": {},
     "output_type": "execute_result"
    }
   ],
   "source": [
    "bi_kmeans_model.get_clusters()"
   ]
  },
  {
   "cell_type": "markdown",
   "metadata": {},
   "source": [
    "## Inferences\n",
    "As can be seen, both the models return the two rows that are initialized differently, as two separate clusters. Also, as expected, the *bisecting kmeans* model takes 0.0164251327515 seconds seconds while the Kmeans model takes 0.00877499580383 seconds to compute, and this is just a small toy data set. The difference would be **huge** in larger data set."
   ]
  },
  {
   "cell_type": "markdown",
   "metadata": {},
   "source": [
    "## Results for Basketball data\n",
    "Now that things seem to work properly, we try to compare both the models on the real datasets; first the Basketball statistics data taken from [here](http://basketballvalue.com/downloads.php). We preprocess the data to exclude strings (names, states, etc) and NaN values and only use the real values to detect outliers."
   ]
  },
  {
   "cell_type": "code",
   "execution_count": 8,
   "metadata": {
    "collapsed": true
   },
   "outputs": [],
   "source": [
    "import pandas as pd\n",
    "\n",
    "df = pd.read_csv(\"playerstats20120510040.txt\", sep=\"\\t\") # read data\n",
    "df.drop('AdjustedPM', axis=1, inplace=True) # drop nan columns\n",
    "df.drop('AdjustedPMStdErr', axis=1, inplace=True) # drop non columns\n",
    "\n",
    "numpy_array = df.as_matrix() # change to numpy array \n",
    "\n",
    "\n",
    "indices = [i for i in range(0,37) if (i < 1 or i> 2)] # exclude string  columns\n",
    "numpy_array = numpy_array[:,indices]\n",
    "\n",
    "data = numpy.zeros(shape=(len(numpy_array), len(numpy_array[0]))) # remove the dtype from the data (to feed to algorithms)\n",
    "\n",
    "data[:] = numpy_array[0:len(numpy_array),0:len(numpy_array[0])]\n",
    "data = numpy.transpose(data)\n",
    "data = data[~numpy.isnan(data).any(axis=1)] # Transpose to exclude nan columns\n",
    "\n",
    "data = numpy.transpose(data) # transpose back"
   ]
  },
  {
   "cell_type": "markdown",
   "metadata": {},
   "source": [
    "## Comparison method for Basketball Data\n",
    "\n",
    "For the methods implemented, we compare the time they take to compute and compute the cluster quality using *overall similarity* of the clusters.\n",
    "\n"
   ]
  },
  {
   "cell_type": "code",
   "execution_count": 12,
   "metadata": {
    "collapsed": false
   },
   "outputs": [
    {
     "name": "stdout",
     "output_type": "stream",
     "text": [
      "Run k-means\n",
      "Regular KMeans took 0.507879018784 seconds!\n",
      "Run bisecting k-means\n",
      "Run k-means\n",
      "Regular KMeans took 0.17829990387 seconds!\n",
      "Run k-means\n",
      "Regular KMeans took 0.0938830375671 seconds!\n",
      "Run k-means\n",
      "Regular KMeans took 0.0404789447784 seconds!\n",
      "Run k-means\n",
      "Regular KMeans took 0.0210490226746 seconds!\n",
      "Run k-means\n",
      "Regular KMeans took 0.0137460231781 seconds!\n",
      "Run k-means\n",
      "Regular KMeans took 0.00684499740601 seconds!\n",
      "Run k-means\n",
      "Regular KMeans took 0.00622701644897 seconds!\n",
      "Bisecting KMeans took 0.361453056335 seconds!\n"
     ]
    }
   ],
   "source": [
    "# the Kmeans model\n",
    "k = 7\n",
    "km_model_basketball = km.KMeansModel(data,dummy_types,dummy_headers,k,n) \n",
    "km_model_basketball.run()\n",
    "    # the Bisecting Kmeans model\n",
    "bkm_model_basketball = bkm.BisectingKMeansModel(data,dummy_types,dummy_headers,k,n) \n",
    "bkm_model_basketball.run()\n"
   ]
  },
  {
   "cell_type": "code",
   "execution_count": 4,
   "metadata": {
    "collapsed": true
   },
   "outputs": [],
   "source": [
    "from sklearn import cluster, datasets\n",
    "from sklearn.neighbors import kneighbors_graph\n",
    "from sklearn.preprocessing import StandardScaler\n",
    "import time\n"
   ]
  },
  {
   "cell_type": "code",
   "execution_count": 14,
   "metadata": {
    "collapsed": false
   },
   "outputs": [],
   "source": [
    "X = StandardScaler().fit_transform(data)\n",
    "\n",
    "    # estimate bandwidth for mean shift\n",
    "bandwidth = cluster.estimate_bandwidth(X, quantile=0.3)\n",
    "\n",
    "    # connectivity matrix for structured Ward\n",
    "connectivity = kneighbors_graph(X, n_neighbors=10, include_self=False)\n",
    "    # make connectivity symmetric\n",
    "connectivity = 0.5 * (connectivity + connectivity.T)\n",
    "\n",
    "average_linkage = cluster.AgglomerativeClustering(\n",
    "        linkage=\"average\", affinity=\"cityblock\", n_clusters=k,\n",
    "        connectivity=connectivity)\n",
    "t0 = time.time()\n",
    "average_linkage.fit(X)\n",
    "t1 = time.time()\n",
    "if hasattr(average_linkage, 'labels_'):\n",
    "            y_pred = average_linkage.labels_.astype(numpy.int)\n",
    "else:\n",
    "            y_pred = average_linkage.predict(X)"
   ]
  },
  {
   "cell_type": "code",
   "execution_count": 49,
   "metadata": {
    "collapsed": false
   },
   "outputs": [
    {
     "data": {
      "text/plain": [
       "7"
      ]
     },
     "execution_count": 49,
     "metadata": {},
     "output_type": "execute_result"
    }
   ],
   "source": [
    "# put the data into clusters found by average linkage\n",
    "average_linkage.labels_\n",
    "average_linkage_clusters = {}\n",
    "for i in range(0,len(average_linkage.labels_)):\n",
    "    cluster = average_linkage.labels_[i]\n",
    "    average_linkage_clusters[cluster] = data[i]\n",
    "len(average_linkage_clusters)    "
   ]
  },
  {
   "cell_type": "code",
   "execution_count": 5,
   "metadata": {
    "collapsed": false
   },
   "outputs": [],
   "source": [
    "def get_cluster_centeroid_squared(cluster):\n",
    "        if cluster.ndim == 1:\n",
    "            avg = cluster\n",
    "        else:    \n",
    "            avg = cluster[1:,:].mean(axis=0)\n",
    "        sum_ = avg.sum()\n",
    "        return sum_ * sum_\n",
    "# function to calculate overall similarity of clusters.\n",
    "def overall_similarity(clusters_dict):\n",
    "        overall_similarity = 0.0\n",
    "        length = len(clusters_dict)\n",
    "        for i in range(0,length):\n",
    "            cluster_centeroid_squared = get_cluster_centeroid_squared(clusters_dict[i])\n",
    "            overall_similarity += cluster_centeroid_squared\n",
    "        return overall_similarity / length"
   ]
  },
  {
   "cell_type": "code",
   "execution_count": 51,
   "metadata": {
    "collapsed": false
   },
   "outputs": [],
   "source": [
    "os = overall_similarity(bkm_model_basketball.get_clusters()) # overall similarity by bisecting k_means\n",
    "os2 = overall_similarity(km_model_basketball.get_clusters()) # overall similarity by k_means\n",
    "os3 = overall_similarity(average_linkage_clusters) # overall similarity by average linkage"
   ]
  },
  {
   "cell_type": "code",
   "execution_count": 39,
   "metadata": {
    "collapsed": false
   },
   "outputs": [
    {
     "data": {
      "text/plain": [
       "2"
      ]
     },
     "execution_count": 39,
     "metadata": {},
     "output_type": "execute_result"
    }
   ],
   "source": [
    "a=bkm_model_basketball.get_clusters()[5]\n",
    "#a[1:,:].mean(axis=0)\n",
    "a\n",
    "a.ndim"
   ]
  },
  {
   "cell_type": "code",
   "execution_count": 42,
   "metadata": {
    "collapsed": false
   },
   "outputs": [
    {
     "data": {
      "text/plain": [
       "1047209794.4463462"
      ]
     },
     "execution_count": 42,
     "metadata": {},
     "output_type": "execute_result"
    }
   ],
   "source": [
    "os"
   ]
  },
  {
   "cell_type": "code",
   "execution_count": 44,
   "metadata": {
    "collapsed": false
   },
   "outputs": [
    {
     "data": {
      "text/plain": [
       "955509244.35635853"
      ]
     },
     "execution_count": 44,
     "metadata": {},
     "output_type": "execute_result"
    }
   ],
   "source": [
    "os2"
   ]
  },
  {
   "cell_type": "code",
   "execution_count": 52,
   "metadata": {
    "collapsed": false
   },
   "outputs": [
    {
     "data": {
      "text/plain": [
       "731533525.40332794"
      ]
     },
     "execution_count": 52,
     "metadata": {},
     "output_type": "execute_result"
    }
   ],
   "source": [
    "os3"
   ]
  },
  {
   "cell_type": "code",
   "execution_count": 56,
   "metadata": {
    "collapsed": false
   },
   "outputs": [
    {
     "data": {
      "image/png": "[encoded data removed]",
      "text/plain": [
       "<matplotlib.figure.Figure at 0x122fcf050>"
      ]
     },
     "metadata": {},
     "output_type": "display_data"
    },
    {
     "data": {
      "text/plain": [
       "<matplotlib.figure.Figure at 0x12328acd0>"
      ]
     },
     "metadata": {},
     "output_type": "display_data"
    }
   ],
   "source": [
    "import numpy as np\n",
    "import pandas as pd\n",
    "import matplotlib.pyplot as plt\n",
    "\n",
    "similarity = [os3, os2, os]   # overall similarity for average_linkage, kmeans, bisecting kmeans\n",
    "\n",
    "similarity_series = pd.Series.from_array(similarity)   \n",
    "\n",
    "x_labels = ['Average Linkage', 'K-Means', 'Bisecting K-Means']\n",
    "\n",
    "plt.figure(figsize=(12, 8))\n",
    "ax = similarity_series.plot(kind='bar')\n",
    "ax.set_title(\"Overall Similarity\")\n",
    "ax.set_xlabel(\"Clustering Technique \")\n",
    "ax.set_ylabel(\"Similarity\")\n",
    "ax.set_xticklabels(x_labels)\n",
    "\n",
    "rects = ax.patches\n",
    "\n",
    "# Now make some labels\n",
    "labels = [\"label%d\" % i for i in xrange(len(rects))]\n",
    "\n",
    "plt.show()\n",
    "plt.savefig(\"overall_similarity.png\")"
   ]
  },
  {
   "cell_type": "markdown",
   "metadata": {},
   "source": [
    "# Inferences about the three models on Basketball Data set\n",
    "As we can see from the overall similarity values by the three models, K-Means algorithms perform better than agglomerative (Average Linkage) and Bisecting K-Means performs better than regular K-Means. Agglomerative approaches perform worse because sometimes the nearest neighbour of an instance in the data set could be of different classes and they could be clustered together by the agglomerative methods and it will never be corrected. On the other hand, K-Means and Bisecting K-Means rely on the similarity of two data instances with respect to all other points and thus perform better."
   ]
  },
  {
   "cell_type": "markdown",
   "metadata": {},
   "source": [
    "# Results from the scripts in How I Met Your Mother\n",
    "\n",
    "I tested the three models on the scripts in the TV series; How I Met Your Mother. The data set was taken from [here](https://github.com/mneedham/neo4j-himym/blob/master/data/import/sentences.csv). The following script by [Mark Needham](http://www.markhneedham.com/blog/2015/02/15/pythonscikit-learn-calculating-tfidf-on-how-i-met-your-mother-transcripts/) has been used to calculate the tfidf (term frequency inverse document frequency) for each episode. I have then transformed the tfidf scores to format accepted by the two implemented algorithms."
   ]
  },
  {
   "cell_type": "code",
   "execution_count": 6,
   "metadata": {
    "collapsed": true
   },
   "outputs": [],
   "source": [
    "# script from Mark Needham to calculate tfidf\n",
    "import csv\n",
    "from sklearn.feature_extraction.text import TfidfVectorizer\n",
    "from collections import defaultdict\n",
    "\n",
    "episodes = defaultdict(list)\n",
    "with open(\"himym\", \"r\") as sentences_file:\n",
    "    reader = csv.reader(sentences_file, delimiter=',')\n",
    "    reader.next()\n",
    "    for row in reader:\n",
    "        episodes[row[1]].append(row[4])\n",
    " \n",
    "for episode_id, text in episodes.iteritems():\n",
    "    episodes[episode_id] = \"\".join(text)\n",
    " \n",
    "corpus = []\n",
    "for id, episode in sorted(episodes.iteritems(), key=lambda t: int(t[0])):\n",
    "    corpus.append(episode)\n",
    "tf = TfidfVectorizer(analyzer='word', ngram_range=(1,3), min_df = 0, stop_words = 'english')  \n",
    "tfidf_matrix =  tf.fit_transform(corpus)\n",
    "feature_names = tf.get_feature_names() "
   ]
  },
  {
   "cell_type": "code",
   "execution_count": 7,
   "metadata": {
    "collapsed": true
   },
   "outputs": [],
   "source": [
    "# preprocess to format data into accepted format by the algorithms\n",
    "\n",
    "tfidf_array = tfidf_matrix.toarray() # change to numpy\n",
    "\n",
    "rows = tfidf_array.shape[0]\n",
    "cols = tfidf_array.shape[1]\n",
    "cols = cols+1 # we use the first column in each row to identify each instance of the data\n",
    "data = numpy.zeros(shape=(rows,cols))\n",
    "data[:,0] = range(0,rows) # set ID's for data instances\n",
    "data[:,1:] = tfidf_array"
   ]
  },
  {
   "cell_type": "code",
   "execution_count": 8,
   "metadata": {
    "collapsed": false
   },
   "outputs": [
    {
     "name": "stdout",
     "output_type": "stream",
     "text": [
      "Run k-means\n",
      "Regular KMeans took 1865.76741505 seconds!\n",
      "Run bisecting k-means\n",
      "Run k-means\n",
      "Regular KMeans took 1216.53143096 seconds!\n",
      "Run k-means\n",
      "Regular KMeans took 1042.92049098 seconds!\n",
      "Run k-means\n",
      "Regular KMeans took 971.218336105 seconds!\n",
      "Run k-means\n",
      "Regular KMeans took 708.000233889 seconds!\n",
      "Run k-means\n",
      "Regular KMeans took 534.769677877 seconds!\n",
      "Run k-means\n",
      "Regular KMeans took 488.396882057 seconds!\n",
      "Run k-means\n",
      "Regular KMeans took 472.903261185 seconds!\n",
      "Run k-means\n",
      "Regular KMeans took 316.712191105 seconds!\n",
      "Run k-means\n",
      "Regular KMeans took 177.909200191 seconds!\n",
      "Bisecting KMeans took 5929.98606801 seconds!\n"
     ]
    }
   ],
   "source": [
    "# the Kmeans model\n",
    "k = 9\n",
    "km_model_himym = km.KMeansModel(data,dummy_types,dummy_headers,k,n) \n",
    "km_model_himym.run()\n",
    "    # the Bisecting Kmeans model\n",
    "bkm_model_himym = bkm.BisectingKMeansModel(data,dummy_types,dummy_headers,k,n) \n",
    "bkm_model_himym.run()"
   ]
  },
  {
   "cell_type": "code",
   "execution_count": 9,
   "metadata": {
    "collapsed": true
   },
   "outputs": [],
   "source": [
    "os = overall_similarity(bkm_model_himym.get_clusters()) # overall similarity by bisecting k_means\n",
    "os2 = overall_similarity(km_model_himym.get_clusters()) # overall similarity by k_means\n"
   ]
  },
  {
   "cell_type": "code",
   "execution_count": 10,
   "metadata": {
    "collapsed": false
   },
   "outputs": [
    {
     "name": "stdout",
     "output_type": "stream",
     "text": [
      "32724.8749747\n",
      "27473.063288\n"
     ]
    }
   ],
   "source": [
    "print os\n",
    "print os2"
   ]
  },
  {
   "cell_type": "code",
   "execution_count": 11,
   "metadata": {
    "collapsed": false
   },
   "outputs": [],
   "source": [
    "from sklearn import cluster, datasets\n",
    "from sklearn.neighbors import kneighbors_graph\n",
    "from sklearn.preprocessing import StandardScaler\n",
    "import time\n",
    "X = StandardScaler().fit_transform(data)\n",
    "\n",
    "    # estimate bandwidth for mean shift\n",
    "    # connectivity matrix for structured Ward\n",
    "    # make connectivity symmetric\n",
    "\n",
    "average_linkage = cluster.AgglomerativeClustering(\n",
    "        linkage=\"average\", affinity=\"cityblock\", n_clusters=k,\n",
    "        )\n",
    "t0 = time.time()\n",
    "average_linkage.fit(X)\n",
    "t1 = time.time()\n",
    "if hasattr(average_linkage, 'labels_'):\n",
    "            y_pred = average_linkage.labels_.astype(numpy.int)\n",
    "else:\n",
    "            y_pred = average_linkage.predict(X)"
   ]
  },
  {
   "cell_type": "code",
   "execution_count": 12,
   "metadata": {
    "collapsed": false
   },
   "outputs": [
    {
     "data": {
      "text/plain": [
       "9"
      ]
     },
     "execution_count": 12,
     "metadata": {},
     "output_type": "execute_result"
    }
   ],
   "source": [
    "# put the data into clusters found by average linkage\n",
    "average_linkage.labels_\n",
    "average_linkage_clusters = {}\n",
    "for i in range(0,len(average_linkage.labels_)):\n",
    "    cluster = average_linkage.labels_[i]\n",
    "    average_linkage_clusters[cluster] = data[i]\n",
    "len(average_linkage_clusters)    "
   ]
  },
  {
   "cell_type": "code",
   "execution_count": 13,
   "metadata": {
    "collapsed": false
   },
   "outputs": [],
   "source": [
    "os3 = overall_similarity(average_linkage_clusters) # overall similarity by average linkage"
   ]
  },
  {
   "cell_type": "code",
   "execution_count": 14,
   "metadata": {
    "collapsed": false
   },
   "outputs": [
    {
     "name": "stdout",
     "output_type": "stream",
     "text": [
      "25228.0200952\n"
     ]
    }
   ],
   "source": [
    "print os3"
   ]
  },
  {
   "cell_type": "code",
   "execution_count": 15,
   "metadata": {
    "collapsed": false
   },
   "outputs": [
    {
     "data": {
      "image/png": "[encoded data removed]",
      "text/plain": [
       "<matplotlib.figure.Figure at 0x1189a9e90>"
      ]
     },
     "metadata": {},
     "output_type": "display_data"
    },
    {
     "data": {
      "text/plain": [
       "<matplotlib.figure.Figure at 0x118076e10>"
      ]
     },
     "metadata": {},
     "output_type": "display_data"
    }
   ],
   "source": [
    "import numpy as np\n",
    "import pandas as pd\n",
    "import matplotlib.pyplot as plt\n",
    "\n",
    "similarity = [os3, os2, os]   # overall similarity for average_linkage, kmeans, bisecting kmeans\n",
    "\n",
    "similarity_series = pd.Series.from_array(similarity)   \n",
    "\n",
    "x_labels = ['Average Linkage', 'K-Means', 'Bisecting K-Means']\n",
    "\n",
    "plt.figure(figsize=(12, 8))\n",
    "ax = similarity_series.plot(kind='bar')\n",
    "ax.set_title(\"Overall Similarity\")\n",
    "ax.set_xlabel(\"Clustering Technique \")\n",
    "ax.set_ylabel(\"Similarity\")\n",
    "ax.set_xticklabels(x_labels)\n",
    "\n",
    "rects = ax.patches\n",
    "\n",
    "# Now make some labels\n",
    "labels = [\"label%d\" % i for i in xrange(len(rects))]\n",
    "\n",
    "plt.show()\n",
    "plt.savefig(\"overall_similarity.png\")"
   ]
  },
  {
   "cell_type": "markdown",
   "metadata": {},
   "source": [
    "# Inferences about the three models on How I met Your Mother Scripts Data set\n",
    "As we can see from the overall similarity values by the three models, K-Means algorithms perform better than agglomerative (Average Linkage) and Bisecting K-Means performs better than regular K-Means. Agglomerative approaches perform worse because sometimes the nearest neighbour of an instance in the data set could be of different classes and they could be clustered together by the agglomerative methods and it will never be corrected. On the other hand, K-Means and Bisecting K-Means rely on the similarity of two data instances with respect to all other points and thus perform better."
   ]
  }
 ],
 "metadata": {
  "kernelspec": {
   "display_name": "Python 2",
   "language": "python",
   "name": "python2"
  },
  "language_info": {
   "codemirror_mode": {
    "name": "ipython",
    "version": 2
   },
   "file_extension": ".py",
   "mimetype": "text/x-python",
   "name": "python",
   "nbconvert_exporter": "python",
   "pygments_lexer": "ipython2",
   "version": "2.7.13"
  }
 },
 "nbformat": 4,
 "nbformat_minor": 0
}
