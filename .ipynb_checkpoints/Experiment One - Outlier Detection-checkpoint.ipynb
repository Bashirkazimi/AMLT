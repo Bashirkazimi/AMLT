{
 "cells": [
  {
   "cell_type": "markdown",
   "metadata": {},
   "source": [
    "# Experiments to test and compare outlier detection algorithms\n",
    "\n",
    "In this notebook, we test and compare the two outlier detection algorithms *kth nearest neighbor* known as *dkn*, and *One-time Sampling*.\n",
    "\n",
    "We first use a toy dataset to check if they work properly."
   ]
  },
  {
   "cell_type": "code",
   "execution_count": 28,
   "metadata": {
    "collapsed": true
   },
   "outputs": [],
   "source": [
    "import kth_NN as dkn# dee-kay-en\n",
    "import sampling # one-time sampling\n",
    "import numpy\n",
    "%matplotlib inline"
   ]
  },
  {
   "cell_type": "code",
   "execution_count": 2,
   "metadata": {
    "collapsed": false
   },
   "outputs": [],
   "source": [
    "toy = numpy.zeros(shape=(10,5)) # 10 by 5 array of zeros\n",
    "\n",
    "for i in range(0,10):\n",
    "    toy[i] = [j for j in range(i,i+5)] # initialize all rows to be close to each other\n",
    "    \n",
    "toy[5] = [j for j in range(100,105)] # change one row(sixth row) to be farther\n",
    "toy[9] = [j for j in range(1000,1005)] # change another row(10th row) to be even farther"
   ]
  },
  {
   "cell_type": "code",
   "execution_count": 3,
   "metadata": {
    "collapsed": true
   },
   "outputs": [],
   "source": [
    "# initialize parameters\n",
    "\n",
    "k=3 # to check for the 3rd nearest neighbor distance \n",
    "s=3 # to use 3 rows of toy data set as sample\n",
    "dummy_types = ['dd'] # input types (not implemented for this work yet, initialized to dummy values)\n",
    "dummy_headers = ['hed'] # headers not implemented yet, dummy value for now.\n",
    "n=2 # number of outliers that we want. (two rows were intialized differently, if it works, the two outliers\n",
    "    # should be the two rows)\n",
    "\n"
   ]
  },
  {
   "cell_type": "code",
   "execution_count": 4,
   "metadata": {
    "collapsed": false
   },
   "outputs": [
    {
     "name": "stdout",
     "output_type": "stream",
     "text": [
      "Run dee-kay-en\n",
      "Finding outliers using dee-kay-en took 0.00113487243652 seconds!\n"
     ]
    }
   ],
   "source": [
    "# the dkn model\n",
    "dkn_model = dkn.KthNN(toy,dummy_types,dummy_headers,k,n) \n",
    "dkn_model.run()\n"
   ]
  },
  {
   "cell_type": "code",
   "execution_count": 5,
   "metadata": {
    "collapsed": false
   },
   "outputs": [
    {
     "data": {
      "text/plain": [
       "[(5, array([ 100.,  101.,  102.,  103.,  104.])),\n",
       " (9, array([ 1000.,  1001.,  1002.,  1003.,  1004.]))]"
      ]
     },
     "execution_count": 5,
     "metadata": {},
     "output_type": "execute_result"
    }
   ],
   "source": [
    "# check returned outliers\n",
    "dkn_model.get_n_outliers()"
   ]
  },
  {
   "cell_type": "code",
   "execution_count": 6,
   "metadata": {
    "collapsed": false
   },
   "outputs": [
    {
     "data": {
      "text/plain": [
       "[array([ 0.,  1.,  2.,  3.,  4.]),\n",
       " array([ 1.,  2.,  3.,  4.,  5.]),\n",
       " array([ 2.,  3.,  4.,  5.,  6.]),\n",
       " array([ 3.,  4.,  5.,  6.,  7.]),\n",
       " array([ 4.,  5.,  6.,  7.,  8.]),\n",
       " array([  6.,   7.,   8.,   9.,  10.]),\n",
       " array([  7.,   8.,   9.,  10.,  11.]),\n",
       " array([  8.,   9.,  10.,  11.,  12.])]"
      ]
     },
     "execution_count": 6,
     "metadata": {},
     "output_type": "execute_result"
    }
   ],
   "source": [
    "# check the rest of the dataset\n",
    "dkn_model.filter_n_outliers()"
   ]
  },
  {
   "cell_type": "code",
   "execution_count": 7,
   "metadata": {
    "collapsed": false
   },
   "outputs": [
    {
     "name": "stdout",
     "output_type": "stream",
     "text": [
      "Run one time sampling\n",
      "Finding outliers using one time sampling took 0.000493049621582 seconds!\n"
     ]
    }
   ],
   "source": [
    "# the sampling model\n",
    "sampling_model = sampling.Sampling_Model(toy,dummy_types,dummy_headers,k,n,s)\n",
    "sampling_model.run()"
   ]
  },
  {
   "cell_type": "code",
   "execution_count": 8,
   "metadata": {
    "collapsed": false
   },
   "outputs": [
    {
     "data": {
      "text/plain": [
       "[(9, array([ 1000.,  1001.,  1002.,  1003.,  1004.])),\n",
       " (5, array([ 100.,  101.,  102.,  103.,  104.]))]"
      ]
     },
     "execution_count": 8,
     "metadata": {},
     "output_type": "execute_result"
    }
   ],
   "source": [
    "# check returned outliers (triple of (index in the data set, instance, ))\n",
    "sampling_model.get_n_outliers()"
   ]
  },
  {
   "cell_type": "code",
   "execution_count": 9,
   "metadata": {
    "collapsed": false
   },
   "outputs": [
    {
     "data": {
      "text/plain": [
       "[array([ 0.,  1.,  2.,  3.,  4.]),\n",
       " array([ 1.,  2.,  3.,  4.,  5.]),\n",
       " array([ 2.,  3.,  4.,  5.,  6.]),\n",
       " array([ 3.,  4.,  5.,  6.,  7.]),\n",
       " array([ 4.,  5.,  6.,  7.,  8.]),\n",
       " array([  6.,   7.,   8.,   9.,  10.]),\n",
       " array([  7.,   8.,   9.,  10.,  11.]),\n",
       " array([  8.,   9.,  10.,  11.,  12.])]"
      ]
     },
     "execution_count": 9,
     "metadata": {},
     "output_type": "execute_result"
    }
   ],
   "source": [
    "# check the rest\n",
    "sampling_model.filter_n_outliers()"
   ]
  },
  {
   "cell_type": "markdown",
   "metadata": {},
   "source": [
    "## Inferences\n",
    "As can be seen, both the models return the two rows that are initialized differently, as the two outliers. Also, as expected, the *dkn* model takes 0.00113487243652 seconds while the sampling model takes 0.000493049621582 seconds to compute, and this is just a small toy data set. The difference would be **huge** in larger data set."
   ]
  },
  {
   "cell_type": "markdown",
   "metadata": {},
   "source": [
    "## Results for Basketball data\n",
    "Now that things seem to work properly, we try to compare both the models on the real datasets; first the Basketball statistics data taken from [here](http://basketballvalue.com/downloads.php). We preprocess the data to exclude strings (names, states, etc) and NaN values and only use the real values to detect outliers."
   ]
  },
  {
   "cell_type": "code",
   "execution_count": 11,
   "metadata": {
    "collapsed": false
   },
   "outputs": [
    {
     "data": {
      "text/plain": [
       "array([[  1.00000000e+00,   9.45466700e+02,   1.79200000e+03, ...,\n",
       "          1.29100000e+03,   3.65900000e-01,   6.78900000e-01],\n",
       "       [  2.00000000e+00,   7.11950000e+02,   1.36600000e+03, ...,\n",
       "          1.39000000e+03,   3.27500000e-01,   6.57200000e-01],\n",
       "       [  3.00000000e+00,   6.81500000e+01,   1.28000000e+02, ...,\n",
       "          1.65400000e+03,   3.07400000e-01,   6.85600000e-01],\n",
       "       ..., \n",
       "       [  1.02900000e+03,   1.80166700e+02,   3.26000000e+02, ...,\n",
       "          1.81300000e+03,   3.32200000e-01,   6.72000000e-01],\n",
       "       [  1.03000000e+03,   3.87000000e+01,   7.40000000e+01, ...,\n",
       "          2.03400000e+03,   3.03200000e-01,   6.84000000e-01],\n",
       "       [  1.03100000e+03,   2.81333000e+01,   5.10000000e+01, ...,\n",
       "          2.00300000e+03,   3.57800000e-01,   6.59700000e-01]])"
      ]
     },
     "execution_count": 11,
     "metadata": {},
     "output_type": "execute_result"
    }
   ],
   "source": [
    "import pandas as pd\n",
    "\n",
    "df = pd.read_csv(\"playerstats20120510040.txt\", sep=\"\\t\") # read data\n",
    "df.drop('AdjustedPM', axis=1, inplace=True) # drop nan columns\n",
    "df.drop('AdjustedPMStdErr', axis=1, inplace=True) # drop non columns\n",
    "\n",
    "numpy_array = df.as_matrix() # change to numpy array \n",
    "\n",
    "\n",
    "indices = [i for i in range(0,37) if (i < 1 or i> 2)] # exclude string  columns\n",
    "numpy_array = numpy_array[:,indices]\n",
    "\n",
    "data = numpy.zeros(shape=(len(numpy_array), len(numpy_array[0]))) # remove the dtype from the data (to feed to algorithms)\n",
    "\n",
    "data[:] = numpy_array[0:len(numpy_array),0:len(numpy_array[0])]\n",
    "data = numpy.transpose(data)\n",
    "data = data[~numpy.isnan(data).any(axis=1)] # Transpose to exclude nan columns\n",
    "\n",
    "data = numpy.transpose(data) # transpose back\n",
    "\n"
   ]
  },
  {
   "cell_type": "markdown",
   "metadata": {},
   "source": [
    "## Comparison method for Basketball Data\n",
    "\n",
    "Since there are a lot of instances in the data set and they are not labelled and we cannot predict which ones are outliers, we cannot compute the accuracy of the models in predicting outliers. What we can do though is measure the time they take for different data set size, and also we can check some random instances from the set of outliers detected and compare their values with some random instances that are not detected as outliers. This way we can see the difference.\n",
    "\n"
   ]
  },
  {
   "cell_type": "code",
   "execution_count": 12,
   "metadata": {
    "collapsed": false
   },
   "outputs": [
    {
     "data": {
      "text/plain": [
       "479"
      ]
     },
     "execution_count": 12,
     "metadata": {},
     "output_type": "execute_result"
    }
   ],
   "source": [
    "len(data)"
   ]
  },
  {
   "cell_type": "code",
   "execution_count": 34,
   "metadata": {
    "collapsed": false
   },
   "outputs": [
    {
     "name": "stdout",
     "output_type": "stream",
     "text": [
      "Run dee-kay-en\n",
      "Finding outliers using dee-kay-en took 0.158178091049 seconds!\n",
      "Run one time sampling\n",
      "Finding outliers using one time sampling took 0.130405902863 seconds!\n",
      "Run dee-kay-en\n",
      "Finding outliers using dee-kay-en took 0.496486186981 seconds!\n",
      "Run one time sampling\n",
      "Finding outliers using one time sampling took 0.208925962448 seconds!\n",
      "Run dee-kay-en\n",
      "Finding outliers using dee-kay-en took 1.00201797485 seconds!\n",
      "Run one time sampling\n",
      "Finding outliers using one time sampling took 0.526949882507 seconds!\n",
      "Run dee-kay-en\n",
      "Finding outliers using dee-kay-en took 1.78954195976 seconds!\n",
      "Run one time sampling\n",
      "Finding outliers using one time sampling took 0.426115989685 seconds!\n",
      "Run dee-kay-en\n",
      "Finding outliers using dee-kay-en took 2.56592297554 seconds!\n",
      "Run one time sampling\n",
      "Finding outliers using one time sampling took 0.540350914001 seconds!\n"
     ]
    }
   ],
   "source": [
    "# We try to run the tests 5 times, using 100, 200, 300, 400, and finally 479 instances from the data set, to see\n",
    "# how the computation time changes for the two algorithms as the size of data grows.\n",
    "computation_time_dkn = [] # keep track of computation time at each run\n",
    "computation_time_sampling = []\n",
    "k = 5 # 5th nearest neighbor\n",
    "s = 100 # sample size\n",
    "n = 10 # 10 outliers\n",
    "size = 100\n",
    "for i in range(0,5):\n",
    "    if i==4:\n",
    "        size = 479\n",
    "    partial_data = data[0:size,:]\n",
    "    # the dkn model\n",
    "    dkn_model_basketball = dkn.KthNN(partial_data,dummy_types,dummy_headers,k,n) \n",
    "    dkn_model_basketball.run()\n",
    "    computation_time_dkn.append(dkn_model_basketball.get_running_time() )\n",
    "    # the sampling model\n",
    "    sampling_model_basketball = sampling.Sampling_Model(partial_data,dummy_types,dummy_headers,k,n,s) \n",
    "    sampling_model_basketball.run()\n",
    "    computation_time_sampling.append(sampling_model_basketball.get_running_time() )\n",
    "    size = size+100\n",
    "    "
   ]
  },
  {
   "cell_type": "code",
   "execution_count": 35,
   "metadata": {
    "collapsed": false
   },
   "outputs": [
    {
     "data": {
      "image/png": "[encoded data removed]",
      "text/plain": [
       "<matplotlib.figure.Figure at 0x11da18090>"
      ]
     },
     "metadata": {},
     "output_type": "display_data"
    }
   ],
   "source": [
    "import matplotlib.pyplot as plt\n",
    "import numpy as np\n",
    "\n",
    "x = [100,200,300,400,479]\n",
    "\n",
    "axes = plt.gca()\n",
    "plt.gca().set_color_cycle(['red', 'green'])\n",
    "\n",
    "plt.plot(x, computation_time_dkn)\n",
    "plt.plot(x, computation_time_sampling)\n",
    "plt.xlabel('Size of data set')\n",
    "plt.ylabel('Computational time')\n",
    "\n",
    "plt.legend(['Dkn Model', 'One-time Sampling Modle'], loc='upper left')\n",
    "axes.set_ylim([-1,3])\n",
    "\n",
    "plt.show()"
   ]
  },
  {
   "cell_type": "code",
   "execution_count": 36,
   "metadata": {
    "collapsed": false
   },
   "outputs": [
    {
     "data": {
      "text/plain": [
       "[0.15817618370056152,\n",
       " 0.49648404121398926,\n",
       " 1.0020158290863037,\n",
       " 1.789539098739624,\n",
       " 2.5659210681915283]"
      ]
     },
     "execution_count": 36,
     "metadata": {},
     "output_type": "execute_result"
    }
   ],
   "source": [
    "computation_time_dkn"
   ]
  },
  {
   "cell_type": "code",
   "execution_count": 37,
   "metadata": {
    "collapsed": false
   },
   "outputs": [
    {
     "data": {
      "text/plain": [
       "[0.13039708137512207,\n",
       " 0.2089240550994873,\n",
       " 0.5269467830657959,\n",
       " 0.4261140823364258,\n",
       " 0.540349006652832]"
      ]
     },
     "execution_count": 37,
     "metadata": {},
     "output_type": "execute_result"
    }
   ],
   "source": [
    "computation_time_sampling"
   ]
  },
  {
   "cell_type": "markdown",
   "metadata": {},
   "source": [
    "## Inferences about the two models based on Basketball Data\n",
    "As can be seen from the graph and values of computation time for the two models, as the data size grows, the difference in computational time gets even bigger. One-time Sampling algorithm is computationally quite efficient."
   ]
  },
  {
   "cell_type": "markdown",
   "metadata": {},
   "source": [
    "### Correctness of outlier detection\n",
    "We do not have the data instances labelled as outlier or inlier, but we can select two random outliers detected by our models and compare it with twp random instances that are not outliers and compare their values against each other to see the difference. "
   ]
  },
  {
   "cell_type": "code",
   "execution_count": 54,
   "metadata": {
    "collapsed": false
   },
   "outputs": [
    {
     "data": {
      "text/plain": [
       "[897.0, 563.0]"
      ]
     },
     "execution_count": 54,
     "metadata": {},
     "output_type": "execute_result"
    }
   ],
   "source": [
    "import random\n",
    "myRange = random.sample(range(0, len(dkn_model_basketball.get_n_outliers())), 2) # random outlier index\n",
    "dkn_outliers = [d[1] for d in [dkn_model_basketball.get_n_outliers()[e] for e in myRange]  ] # random outliers\n",
    "\n",
    "myRange = random.sample(range(0, len(dkn_model_basketball.filter_n_outliers())), 2) # random inlier index\n",
    "dkn_inliers = [d[0] for d in [dkn_model_basketball.filter_n_outliers()[e] for e in myRange]  ] # random inliers\n",
    "\n",
    "dkn_inliers"
   ]
  },
  {
   "cell_type": "code",
   "execution_count": 49,
   "metadata": {
    "collapsed": false
   },
   "outputs": [
    {
     "ename": "TypeError",
     "evalue": "object of type 'numpy.float64' has no len()",
     "output_type": "error",
     "traceback": [
      "\u001b[0;31m---------------------------------------------------------------------------\u001b[0m",
      "\u001b[0;31mTypeError\u001b[0m                                 Traceback (most recent call last)",
      "\u001b[0;32m<ipython-input-49-cbc5e0cc1b01>\u001b[0m in \u001b[0;36m<module>\u001b[0;34m()\u001b[0m\n\u001b[1;32m      4\u001b[0m \u001b[0;34m\u001b[0m\u001b[0m\n\u001b[1;32m      5\u001b[0m \u001b[0;32mfor\u001b[0m \u001b[0mxe\u001b[0m\u001b[0;34m,\u001b[0m \u001b[0mye\u001b[0m \u001b[0;32min\u001b[0m \u001b[0mzip\u001b[0m\u001b[0;34m(\u001b[0m\u001b[0mx\u001b[0m\u001b[0;34m,\u001b[0m \u001b[0my\u001b[0m\u001b[0;34m)\u001b[0m\u001b[0;34m:\u001b[0m\u001b[0;34m\u001b[0m\u001b[0m\n\u001b[0;32m----> 6\u001b[0;31m     \u001b[0mplt\u001b[0m\u001b[0;34m.\u001b[0m\u001b[0mscatter\u001b[0m\u001b[0;34m(\u001b[0m\u001b[0;34m[\u001b[0m\u001b[0mxe\u001b[0m\u001b[0;34m]\u001b[0m \u001b[0;34m*\u001b[0m \u001b[0mlen\u001b[0m\u001b[0;34m(\u001b[0m\u001b[0mye\u001b[0m\u001b[0;34m)\u001b[0m\u001b[0;34m,\u001b[0m \u001b[0mye\u001b[0m\u001b[0;34m)\u001b[0m\u001b[0;34m\u001b[0m\u001b[0m\n\u001b[0m\u001b[1;32m      7\u001b[0m \u001b[0;34m\u001b[0m\u001b[0m\n\u001b[1;32m      8\u001b[0m \u001b[0mplt\u001b[0m\u001b[0;34m.\u001b[0m\u001b[0mxticks\u001b[0m\u001b[0;34m(\u001b[0m\u001b[0;34m[\u001b[0m\u001b[0;36m1\u001b[0m\u001b[0;34m,\u001b[0m \u001b[0;36m2\u001b[0m\u001b[0;34m]\u001b[0m\u001b[0;34m)\u001b[0m\u001b[0;34m\u001b[0m\u001b[0m\n",
      "\u001b[0;31mTypeError\u001b[0m: object of type 'numpy.float64' has no len()"
     ]
    },
    {
     "data": {
      "image/png": "[encoded data removed]",
      "text/plain": [
       "<matplotlib.figure.Figure at 0x1161b9e50>"
      ]
     },
     "metadata": {},
     "output_type": "display_data"
    }
   ],
   "source": [
    "\n",
    "y = [dkn_outliers[0] ,dkn_outliers[1], dkn_inliers[0] ,dkn_inliers[1] ]\n",
    "x = [1,2,3,4] # 1 and 2 are outliers, 3 and 4 are inliers\n",
    "\n",
    "for xe, ye in zip(x, y):\n",
    "    plt.scatter([xe] * len(ye), ye)\n",
    "\n",
    "plt.xticks([1, 2])\n",
    "plt.axes().set_xticklabels(['cat1', 'cat2'])\n",
    "\n",
    "plt.show()"
   ]
  }
 ],
 "metadata": {
  "kernelspec": {
   "display_name": "Python 2",
   "language": "python",
   "name": "python2"
  },
  "language_info": {
   "codemirror_mode": {
    "name": "ipython",
    "version": 2
   },
   "file_extension": ".py",
   "mimetype": "text/x-python",
   "name": "python",
   "nbconvert_exporter": "python",
   "pygments_lexer": "ipython2",
   "version": "2.7.13"
  }
 },
 "nbformat": 4,
 "nbformat_minor": 0
}
