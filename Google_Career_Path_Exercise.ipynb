{
  "nbformat": 4,
  "nbformat_minor": 0,
  "metadata": {
    "colab": {
      "name": "Google_Career_Path_Exercise.ipynb",
      "provenance": [],
      "collapsed_sections": [],
      "toc_visible": true,
      "include_colab_link": true
    },
    "kernelspec": {
      "name": "python3",
      "display_name": "Python 3"
    }
  },
  "cells": [
    {
      "cell_type": "markdown",
      "metadata": {
        "id": "view-in-github",
        "colab_type": "text"
      },
      "source": [
        "<a href=\"https://colab.research.google.com/github/Bashirkazimi/AMLT/blob/master/Google_Career_Path_Exercise.ipynb\" target=\"_parent\"><img src=\"https://colab.research.google.com/assets/colab-badge.svg\" alt=\"Open In Colab\"/></a>"
      ]
    },
    {
      "cell_type": "markdown",
      "metadata": {
        "id": "sTjfTnxhiazK",
        "colab_type": "text"
      },
      "source": [
        "# Google Career Path Exercise Solutions\n",
        "\n",
        "In this notebook, I try to solve the exercises provided in [Google Career Path](https://techdevguide.withgoogle.com/paths/).  It includes only those exercises that need to be solved with Python for now."
      ]
    },
    {
      "cell_type": "markdown",
      "metadata": {
        "id": "_GvI3ZKUjokx",
        "colab_type": "text"
      },
      "source": [
        "## [Former Coding Interview Question: Find longest word in dictionary that is a subsequence of a given string](https://techdevguide.withgoogle.com/paths/foundational/find-longest-word-in-dictionary-that-subsequence-of-given-string/#!)\n",
        "\n",
        "### The Challenge\n",
        "Given a string `S` and a set of words `D`, find the longest word in `D` that is a subsequence of `S`.\n",
        "\n",
        "Word `W` is a subsequence of `S` if some number of characters, possibly zero, can be deleted from `S` to form `W`, without reordering the remaining characters.\n",
        "\n",
        "**Note**: `D` can appear in any format (list, hash table, prefix tree, etc.\n",
        "\n",
        "For example, given the input of `S = \"abppplee\"` and `D = {\"able\", \"ale\", \"apple\", \"bale\", \"kangaroo\"}` the correct output would be `\"apple\"`\n",
        "\n",
        "The words `\"able\"` and `\"ale\"` are both subsequences of `S`, but they are shorter than `\"apple\"`.\n",
        "The word `\"bale\"` is not a subsequence of `S` because even though `S` has all the right letters, they are not in the right order.\n",
        "\n",
        "The word `\"kangaroo\"` is the longest word in `D`, but it isn't a subsequence of `S`.\n",
        "\n",
        "**Learning objectives**\n",
        "\n",
        "This question gives you the chance to practice with algorithms and data structures. It’s also a good example of why careful analysis for `Big-O` performance is often worthwhile, as is careful exploration of common and worst-case input conditions."
      ]
    },
    {
      "cell_type": "code",
      "metadata": {
        "id": "fkx8sDnBsrh3",
        "colab_type": "code",
        "colab": {}
      },
      "source": [
        "import collections\n",
        "def find_longest_word_in_string(letters, words):\n",
        "    \"\"\"\n",
        "    Create a dictionary of letters with their corresponding positions in the \n",
        "    given string\n",
        "    \"\"\"\n",
        "    letter_positions = collections.defaultdict(list)\n",
        "    for index, letter in enumerate(letters):\n",
        "        letter_positions[letter].append(index)\n",
        "    br = False\n",
        "    # Sort the list of words based on decreasing length\n",
        "    for word in sorted(words, key=lambda w: len(w), reverse=True):\n",
        "        # For each word\n",
        "        pos = 0\n",
        "        br = False\n",
        "        for letter in word:\n",
        "            # For each letter\n",
        "            if letter not in letter_positions:\n",
        "                # if it is not in the given string, stop, go to first for loop\n",
        "                br = True\n",
        "                break\n",
        "            found_bigger_p = False\n",
        "            \"\"\" \n",
        "            if the letter is in the string, make sure it follows previously \n",
        "            found letter position\n",
        "            \"\"\"\n",
        "            for p in letter_positions[letter]:\n",
        "                if p>=pos:\n",
        "                    pos = p\n",
        "                    found_bigger_p = True\n",
        "                    break\n",
        "            if not found_bigger_p:\n",
        "                br = True\n",
        "                break\n",
        "        \"\"\"\n",
        "        if the loop has not broken, it means the word is found in the string, \n",
        "        return it. Sinece it's ordered by decreasing length, it is the longest\n",
        "        word anyway, ignore other words in the list.\n",
        "        \"\"\"\n",
        "        if not br:\n",
        "            return word\n"
      ],
      "execution_count": 0,
      "outputs": []
    },
    {
      "cell_type": "markdown",
      "metadata": {
        "id": "V2pv05O9nXYe",
        "colab_type": "text"
      },
      "source": [
        "### Examples"
      ]
    },
    {
      "cell_type": "code",
      "metadata": {
        "id": "ynK26d25tBpb",
        "colab_type": "code",
        "outputId": "df15e4a0-1899-48b3-dfdd-9dbf285506c2",
        "colab": {
          "base_uri": "https://localhost:8080/",
          "height": 35
        }
      },
      "source": [
        "find_longest_word_in_string(\"abppplee\", {\"able\", \"ale\", \"paple\", \"bale\", \"kangaroo\"})\n"
      ],
      "execution_count": 0,
      "outputs": [
        {
          "output_type": "execute_result",
          "data": {
            "text/plain": [
              "'able'"
            ]
          },
          "metadata": {
            "tags": []
          },
          "execution_count": 4
        }
      ]
    },
    {
      "cell_type": "code",
      "metadata": {
        "id": "B8sm0cxXtHye",
        "colab_type": "code",
        "outputId": "7ca71221-9e56-482c-edec-d6facc35196d",
        "colab": {
          "base_uri": "https://localhost:8080/",
          "height": 35
        }
      },
      "source": [
        "find_longest_word_in_string(\"abppplee\", {\"able\", \"ale\", \"apple\", \"bale\", \"kangaroo\"})\n"
      ],
      "execution_count": 0,
      "outputs": [
        {
          "output_type": "execute_result",
          "data": {
            "text/plain": [
              "'apple'"
            ]
          },
          "metadata": {
            "tags": []
          },
          "execution_count": 5
        }
      ]
    },
    {
      "cell_type": "markdown",
      "metadata": {
        "id": "rkFHJ_q0tYB2",
        "colab_type": "text"
      },
      "source": [
        "## [StringSplosion Problem](https://techdevguide.withgoogle.com/paths/foundational/stringsplosion-problem-ccocodcode/#!)\n",
        "\n",
        "\n",
        "Given a non-empty string like `\"Code\"` return a string like `\"CCoCodCode\"`.\n",
        "\n",
        "\n",
        "```\n",
        "string_splosion('Code') → 'CCoCodCode'\n",
        "```\n",
        "\n",
        "```\n",
        "string_splosion('abc') → 'aababc'\n",
        "```\n",
        "\n",
        "```\n",
        "string_splosion('ab') → 'aab'\n",
        "```\n",
        "\n",
        "\n",
        "\n"
      ]
    },
    {
      "cell_type": "code",
      "metadata": {
        "id": "fY6HAdRmD0qI",
        "colab_type": "code",
        "colab": {}
      },
      "source": [
        "def string_splosion(str):\n",
        "  ret_str = \"\"\n",
        "  for i in range(len(str)):\n",
        "    ret_str = ret_str+str[:(i+1)]\n",
        "  return ret_str"
      ],
      "execution_count": 0,
      "outputs": []
    },
    {
      "cell_type": "markdown",
      "metadata": {
        "id": "xegw5po8or9T",
        "colab_type": "text"
      },
      "source": [
        "### Examples"
      ]
    },
    {
      "cell_type": "code",
      "metadata": {
        "id": "1d5NjsfeD5j1",
        "colab_type": "code",
        "outputId": "da3a19cb-37c9-4b5b-a6c9-d5b398dd459f",
        "colab": {
          "base_uri": "https://localhost:8080/",
          "height": 35
        }
      },
      "source": [
        "string_splosion('Code') "
      ],
      "execution_count": 0,
      "outputs": [
        {
          "output_type": "execute_result",
          "data": {
            "text/plain": [
              "'CCoCodCode'"
            ]
          },
          "metadata": {
            "tags": []
          },
          "execution_count": 7
        }
      ]
    },
    {
      "cell_type": "code",
      "metadata": {
        "id": "CcUSi0TpEKrt",
        "colab_type": "code",
        "outputId": "c11340db-e73b-4126-d279-f4ce6dbf9a50",
        "colab": {
          "base_uri": "https://localhost:8080/",
          "height": 35
        }
      },
      "source": [
        "string_splosion('abc')"
      ],
      "execution_count": 0,
      "outputs": [
        {
          "output_type": "execute_result",
          "data": {
            "text/plain": [
              "'aababc'"
            ]
          },
          "metadata": {
            "tags": []
          },
          "execution_count": 8
        }
      ]
    },
    {
      "cell_type": "code",
      "metadata": {
        "id": "Iq3PMo2MEPRE",
        "colab_type": "code",
        "outputId": "10df0d41-f5ee-43d4-fc0a-e906c6708a78",
        "colab": {
          "base_uri": "https://localhost:8080/",
          "height": 35
        }
      },
      "source": [
        "string_splosion('fade')"
      ],
      "execution_count": 0,
      "outputs": [
        {
          "output_type": "execute_result",
          "data": {
            "text/plain": [
              "'ffafadfade'"
            ]
          },
          "metadata": {
            "tags": []
          },
          "execution_count": 9
        }
      ]
    },
    {
      "cell_type": "code",
      "metadata": {
        "id": "iPU-3sxWEQgE",
        "colab_type": "code",
        "outputId": "685a4d03-046c-4612-afd0-ded5a3415835",
        "colab": {
          "base_uri": "https://localhost:8080/",
          "height": 35
        }
      },
      "source": [
        "string_splosion('x') "
      ],
      "execution_count": 0,
      "outputs": [
        {
          "output_type": "execute_result",
          "data": {
            "text/plain": [
              "'x'"
            ]
          },
          "metadata": {
            "tags": []
          },
          "execution_count": 10
        }
      ]
    },
    {
      "cell_type": "code",
      "metadata": {
        "id": "YbYqrZflEUrs",
        "colab_type": "code",
        "outputId": "1f2b68de-850f-429a-e1e0-f33bbd043ee6",
        "colab": {
          "base_uri": "https://localhost:8080/",
          "height": 35
        }
      },
      "source": [
        "string_splosion('Bye')"
      ],
      "execution_count": 0,
      "outputs": [
        {
          "output_type": "execute_result",
          "data": {
            "text/plain": [
              "'BByBye'"
            ]
          },
          "metadata": {
            "tags": []
          },
          "execution_count": 11
        }
      ]
    },
    {
      "cell_type": "markdown",
      "metadata": {
        "id": "hSjMDQPrrpsx",
        "colab_type": "text"
      },
      "source": [
        "## [Simple Interpreter Problem-solving in Python](https://techdevguide.withgoogle.com/paths/foundational/interpreter-problems-for-python/#!)\n",
        "\n",
        "Write a simple interpreter which understands \"+\", \"-\", and \"*\" operations. Apply the operations in order using command/arg pairs starting with the initial value of `value`. If you encounter an unknown command, `return -1.\n",
        "\n",
        "\n",
        "`interpret(1, ['+'], [1]) → 2`\n",
        "\n",
        "`interpret(4, ['-'], [2]) → 2`\n",
        "\n",
        "`interpret(1, ['+', '*'], [1, 3]) → 6`"
      ]
    },
    {
      "cell_type": "code",
      "metadata": {
        "id": "gF0c4NEqsOFE",
        "colab_type": "code",
        "colab": {}
      },
      "source": [
        "def interpret(value, commands, args):\n",
        "  for cm, arg in zip(commands, args):\n",
        "    if cm == \"+\":\n",
        "      value += arg\n",
        "    elif cm == \"-\":\n",
        "      value -= arg\n",
        "    elif cm == \"*\":\n",
        "      value *= arg\n",
        "    else:\n",
        "      return -1\n",
        "  return value"
      ],
      "execution_count": 0,
      "outputs": []
    },
    {
      "cell_type": "markdown",
      "metadata": {
        "id": "GQWOYYc-tV89",
        "colab_type": "text"
      },
      "source": [
        "### Examples"
      ]
    },
    {
      "cell_type": "code",
      "metadata": {
        "id": "ZVAnWF95tTbL",
        "colab_type": "code",
        "outputId": "97f57f62-2f51-412c-a1de-b6a284eeaa49",
        "colab": {
          "base_uri": "https://localhost:8080/",
          "height": 35
        }
      },
      "source": [
        "interpret(1, ['+'], [1])"
      ],
      "execution_count": 0,
      "outputs": [
        {
          "output_type": "execute_result",
          "data": {
            "text/plain": [
              "2"
            ]
          },
          "metadata": {
            "tags": []
          },
          "execution_count": 32
        }
      ]
    },
    {
      "cell_type": "code",
      "metadata": {
        "id": "r9OMx5YKtcaz",
        "colab_type": "code",
        "outputId": "48750a11-5c35-4476-b117-3e1f5eff3e3d",
        "colab": {
          "base_uri": "https://localhost:8080/",
          "height": 35
        }
      },
      "source": [
        "interpret(4, ['-'], [2]) "
      ],
      "execution_count": 0,
      "outputs": [
        {
          "output_type": "execute_result",
          "data": {
            "text/plain": [
              "2"
            ]
          },
          "metadata": {
            "tags": []
          },
          "execution_count": 31
        }
      ]
    },
    {
      "cell_type": "code",
      "metadata": {
        "id": "TfWYxrVstc3b",
        "colab_type": "code",
        "outputId": "a2e02803-d586-4495-b1b3-19cb0238200a",
        "colab": {
          "base_uri": "https://localhost:8080/",
          "height": 35
        }
      },
      "source": [
        "interpret(1, ['+', '*'], [1, 3]) "
      ],
      "execution_count": 0,
      "outputs": [
        {
          "output_type": "execute_result",
          "data": {
            "text/plain": [
              "6"
            ]
          },
          "metadata": {
            "tags": []
          },
          "execution_count": 30
        }
      ]
    },
    {
      "cell_type": "code",
      "metadata": {
        "id": "QUJOlBStti5j",
        "colab_type": "code",
        "outputId": "7170fa71-9749-45a9-881a-68d1ba5d8fa9",
        "colab": {
          "base_uri": "https://localhost:8080/",
          "height": 35
        }
      },
      "source": [
        "interpret(3, ['*'], [4])"
      ],
      "execution_count": 0,
      "outputs": [
        {
          "output_type": "execute_result",
          "data": {
            "text/plain": [
              "12"
            ]
          },
          "metadata": {
            "tags": []
          },
          "execution_count": 29
        }
      ]
    },
    {
      "cell_type": "code",
      "metadata": {
        "id": "58_NBovTtnHz",
        "colab_type": "code",
        "outputId": "8255b316-e2df-4ed3-b429-adb0d3bb92eb",
        "colab": {
          "base_uri": "https://localhost:8080/",
          "height": 35
        }
      },
      "source": [
        "interpret(0, ['?'], [4]) "
      ],
      "execution_count": 0,
      "outputs": [
        {
          "output_type": "execute_result",
          "data": {
            "text/plain": [
              "-1"
            ]
          },
          "metadata": {
            "tags": []
          },
          "execution_count": 28
        }
      ]
    },
    {
      "cell_type": "code",
      "metadata": {
        "id": "_dpXRmPStoOT",
        "colab_type": "code",
        "outputId": "0982b7df-ac23-4150-a44b-bfda361394cb",
        "colab": {
          "base_uri": "https://localhost:8080/",
          "height": 35
        }
      },
      "source": [
        "interpret(1, ['+', '*', '-'], [1, 3, 2])"
      ],
      "execution_count": 0,
      "outputs": [
        {
          "output_type": "execute_result",
          "data": {
            "text/plain": [
              "4"
            ]
          },
          "metadata": {
            "tags": []
          },
          "execution_count": 27
        }
      ]
    },
    {
      "cell_type": "code",
      "metadata": {
        "id": "aoAMA29mtsfb",
        "colab_type": "code",
        "colab": {}
      },
      "source": [
        ""
      ],
      "execution_count": 0,
      "outputs": []
    },
    {
      "cell_type": "markdown",
      "metadata": {
        "id": "ncIUoTU7tx0y",
        "colab_type": "text"
      },
      "source": [
        "## Alternative solution"
      ]
    },
    {
      "cell_type": "code",
      "metadata": {
        "id": "V6xnostYtQj5",
        "colab_type": "code",
        "colab": {}
      },
      "source": [
        "import operator\n",
        "def interpret(value, commands, args):\n",
        "  ops = {\"+\": operator.add, \"-\":operator.sub, \"*\":operator.mul}\n",
        "  for cm, arg in zip(commands, args):\n",
        "    if cm not in ops:\n",
        "      return -1\n",
        "    value = ops[cm](value, arg)\n",
        "  return value\n"
      ],
      "execution_count": 0,
      "outputs": []
    },
    {
      "cell_type": "markdown",
      "metadata": {
        "id": "6BfprDoPucaC",
        "colab_type": "text"
      },
      "source": [
        "## [makeBricks Problem](https://techdevguide.withgoogle.com/paths/foundational/makebricks-problem/#!)\n",
        "\n",
        "We want to make a row of bricks that is goal inches long. We have a number of small bricks (1 inch each) and big bricks (5 inches each). Return true if it is possible to make the goal by choosing from the given bricks. This is a little harder than it looks and can be done without any loops."
      ]
    },
    {
      "cell_type": "code",
      "metadata": {
        "id": "to8z3l4FupEK",
        "colab_type": "code",
        "colab": {}
      },
      "source": [
        "def make_bricks(small, big, goal):\n",
        "    if small + (big*5) < goal:\n",
        "      return False\n",
        "    if goal%5==0 and big*5>=goal:\n",
        "        return True\n",
        "    if goal%5<=small:\n",
        "        return True\n",
        "    else:\n",
        "        return False"
      ],
      "execution_count": 0,
      "outputs": []
    },
    {
      "cell_type": "markdown",
      "metadata": {
        "id": "_hkyi8-Vux2K",
        "colab_type": "text"
      },
      "source": [
        "### Examples"
      ]
    },
    {
      "cell_type": "code",
      "metadata": {
        "id": "l49JYa3au15q",
        "colab_type": "code",
        "outputId": "0453d71f-c6ed-41c2-91ac-ee75348331cb",
        "colab": {
          "base_uri": "https://localhost:8080/",
          "height": 35
        }
      },
      "source": [
        "make_bricks(3, 1, 8) "
      ],
      "execution_count": 0,
      "outputs": [
        {
          "output_type": "execute_result",
          "data": {
            "text/plain": [
              "True"
            ]
          },
          "metadata": {
            "tags": []
          },
          "execution_count": 34
        }
      ]
    },
    {
      "cell_type": "code",
      "metadata": {
        "id": "ElGXsxuUu-1K",
        "colab_type": "code",
        "outputId": "d2a7fe5b-18a3-47a4-e73f-a792f2f1e538",
        "colab": {
          "base_uri": "https://localhost:8080/",
          "height": 35
        }
      },
      "source": [
        "make_bricks(3, 1, 9)"
      ],
      "execution_count": 0,
      "outputs": [
        {
          "output_type": "execute_result",
          "data": {
            "text/plain": [
              "False"
            ]
          },
          "metadata": {
            "tags": []
          },
          "execution_count": 35
        }
      ]
    },
    {
      "cell_type": "code",
      "metadata": {
        "id": "bNGmkEMmu_Mr",
        "colab_type": "code",
        "outputId": "bad933ff-0e60-4d60-e85f-7f6246f15151",
        "colab": {
          "base_uri": "https://localhost:8080/",
          "height": 35
        }
      },
      "source": [
        "make_bricks(3, 2, 8)"
      ],
      "execution_count": 0,
      "outputs": [
        {
          "output_type": "execute_result",
          "data": {
            "text/plain": [
              "True"
            ]
          },
          "metadata": {
            "tags": []
          },
          "execution_count": 36
        }
      ]
    },
    {
      "cell_type": "code",
      "metadata": {
        "id": "ycQcw2k5u_lC",
        "colab_type": "code",
        "outputId": "c02eebff-f204-4e94-c9c4-f53ee8f744bc",
        "colab": {
          "base_uri": "https://localhost:8080/",
          "height": 35
        }
      },
      "source": [
        "make_bricks(1000000, 1000, 1000100) "
      ],
      "execution_count": 0,
      "outputs": [
        {
          "output_type": "execute_result",
          "data": {
            "text/plain": [
              "True"
            ]
          },
          "metadata": {
            "tags": []
          },
          "execution_count": 37
        }
      ]
    },
    {
      "cell_type": "code",
      "metadata": {
        "id": "ZEn-qfBiu_yy",
        "colab_type": "code",
        "outputId": "952aa245-a12f-4484-e288-4d4b6c6a685f",
        "colab": {
          "base_uri": "https://localhost:8080/",
          "height": 35
        }
      },
      "source": [
        "make_bricks(2, 1000000, 100003)"
      ],
      "execution_count": 0,
      "outputs": [
        {
          "output_type": "execute_result",
          "data": {
            "text/plain": [
              "False"
            ]
          },
          "metadata": {
            "tags": []
          },
          "execution_count": 38
        }
      ]
    },
    {
      "cell_type": "code",
      "metadata": {
        "id": "kGMdcs2qvABC",
        "colab_type": "code",
        "outputId": "a319d6e2-e3c4-42ed-efa4-c2a717638219",
        "colab": {
          "base_uri": "https://localhost:8080/",
          "height": 35
        }
      },
      "source": [
        "make_bricks(20, 0, 21) "
      ],
      "execution_count": 0,
      "outputs": [
        {
          "output_type": "execute_result",
          "data": {
            "text/plain": [
              "False"
            ]
          },
          "metadata": {
            "tags": []
          },
          "execution_count": 39
        }
      ]
    },
    {
      "cell_type": "code",
      "metadata": {
        "id": "Z3MLRsSdvAOS",
        "colab_type": "code",
        "outputId": "8cd9c5f5-e5b3-49c3-8a05-55917d0dfba4",
        "colab": {
          "base_uri": "https://localhost:8080/",
          "height": 35
        }
      },
      "source": [
        "make_bricks(20, 4, 39) "
      ],
      "execution_count": 0,
      "outputs": [
        {
          "output_type": "execute_result",
          "data": {
            "text/plain": [
              "True"
            ]
          },
          "metadata": {
            "tags": []
          },
          "execution_count": 40
        }
      ]
    },
    {
      "cell_type": "code",
      "metadata": {
        "id": "Kn-2OpCIvAa6",
        "colab_type": "code",
        "outputId": "c14c7ba4-e811-4860-e2d6-6f70f5e37528",
        "colab": {
          "base_uri": "https://localhost:8080/",
          "height": 35
        }
      },
      "source": [
        "make_bricks(40, 2, 52) "
      ],
      "execution_count": 0,
      "outputs": [
        {
          "output_type": "execute_result",
          "data": {
            "text/plain": [
              "False"
            ]
          },
          "metadata": {
            "tags": []
          },
          "execution_count": 41
        }
      ]
    },
    {
      "cell_type": "markdown",
      "metadata": {
        "id": "Pz-0dz3JtsTi",
        "colab_type": "text"
      },
      "source": [
        "## [Advanced programming challenge: code decompression](https://techdevguide.withgoogle.com/paths/advanced/compress-decompression/#!)\n",
        "\n",
        "**The Challenge**\n",
        "\n",
        "In this exercise, you're going to decompress a compressed string.\n",
        "\n",
        "Your input is a compressed string of the format `number[string]` and the decompressed output form should be the string written number times. For example:\n",
        "\n",
        "The input\n",
        "\n",
        "```3[abc]4[ab]c```\n",
        "\n",
        "Would be output as\n",
        "\n",
        "```abcabcabcababababc```\n",
        "\n",
        "\n",
        "**Other rules**\n",
        "\n",
        "Number can have more than one digit. For example, ```10[a]``` is allowed, and just means ```aaaaaaaaaa```\n",
        "\n",
        "One repetition can occur inside another. For example, ```2[3[a]b]``` decompresses into ```aaabaaab```\n",
        "\n",
        "Characters allowed as input include digits, small English letters and brackets ```[ ]```.\n",
        "\n",
        "Digits are only to represent amount of repetitions.\n",
        "\n",
        "Letters are just letters.\n",
        "\n",
        "Brackets are only part of syntax of writing repeated substring.\n",
        "\n",
        "Input is always valid, so no need to check its validity.\n",
        "\n",
        "**Learning objectives**\n",
        "\n",
        "This question gives you the chance to practice with strings, recursion, algorithm, compilers, automata, and loops. It’s also an opportunity to work on coding with better efficiency."
      ]
    },
    {
      "cell_type": "code",
      "metadata": {
        "id": "t9ZlFZSjwGBJ",
        "colab_type": "code",
        "colab": {}
      },
      "source": [
        ""
      ],
      "execution_count": 0,
      "outputs": []
    },
    {
      "cell_type": "code",
      "metadata": {
        "id": "tPziZwnJtln3",
        "colab_type": "code",
        "colab": {}
      },
      "source": [
        "def decom(s):\n",
        "    if '[' not in s:\n",
        "        return s\n",
        "    spl = s.split('[')\n",
        "    opening_br = s.index('[')\n",
        "    pos = opening_br\n",
        "    total_len = len(s)\n",
        "    num_open = 1\n",
        "    num_closed = 0\n",
        "    while(num_open != num_closed):\n",
        "        \n",
        "        letter = s[pos+1]\n",
        "        if letter == '[':\n",
        "            num_open +=1\n",
        "        elif letter == ']':\n",
        "            num_closed +=1\n",
        "        else:\n",
        "            pos+=1\n",
        "            continue\n",
        "        pos+=1\n",
        "    \n",
        "    if pos+1<total_len:\n",
        "        return int(spl[0])*decom(s[opening_br+1:pos])+decom(s[pos+1:]) \n",
        "    else:\n",
        "        return int(spl[0])*decom(s[opening_br+1:-1])\n"
      ],
      "execution_count": 0,
      "outputs": []
    },
    {
      "cell_type": "markdown",
      "metadata": {
        "id": "Y143F4D4lKko",
        "colab_type": "text"
      },
      "source": [
        "### Examples"
      ]
    },
    {
      "cell_type": "code",
      "metadata": {
        "id": "GUf7xLeLqjgd",
        "colab_type": "code",
        "outputId": "403655f1-3011-44c2-d113-4c237002fb41",
        "colab": {
          "base_uri": "https://localhost:8080/",
          "height": 35
        }
      },
      "source": [
        "decom('3[abc]4[ab]c')"
      ],
      "execution_count": 0,
      "outputs": [
        {
          "output_type": "execute_result",
          "data": {
            "text/plain": [
              "'abcabcabcababababc'"
            ]
          },
          "metadata": {
            "tags": []
          },
          "execution_count": 4
        }
      ]
    },
    {
      "cell_type": "code",
      "metadata": {
        "id": "wqQPdy-8lS_0",
        "colab_type": "code",
        "outputId": "91858d7e-cdfe-4319-9914-3b4252e23c43",
        "colab": {
          "base_uri": "https://localhost:8080/",
          "height": 35
        }
      },
      "source": [
        "decom('10[a]')"
      ],
      "execution_count": 0,
      "outputs": [
        {
          "output_type": "execute_result",
          "data": {
            "text/plain": [
              "'aaaaaaaaaa'"
            ]
          },
          "metadata": {
            "tags": []
          },
          "execution_count": 5
        }
      ]
    },
    {
      "cell_type": "code",
      "metadata": {
        "id": "CsU-NpKJlcZ_",
        "colab_type": "code",
        "outputId": "f26d3f3d-e4b1-43a9-f625-a983b6738d8e",
        "colab": {
          "base_uri": "https://localhost:8080/",
          "height": 35
        }
      },
      "source": [
        "decom('2[3[a]b]')"
      ],
      "execution_count": 0,
      "outputs": [
        {
          "output_type": "execute_result",
          "data": {
            "text/plain": [
              "'aaabaaab'"
            ]
          },
          "metadata": {
            "tags": []
          },
          "execution_count": 6
        }
      ]
    },
    {
      "cell_type": "markdown",
      "metadata": {
        "id": "V714v3vjzDQ1",
        "colab_type": "text"
      },
      "source": [
        "## [Distribute Candies](https://leetcode.com/problems/distribute-candies/#/description)\n",
        "\n",
        "Given an integer array with even length, where different numbers in this array represent different kinds of candies. Each number means one candy of the corresponding kind. You need to distribute these candies equally in number to brother and sister. Return the maximum number of kinds of candies the sister could gain.\n",
        "\n",
        "**Example 1:**\n",
        "\n",
        "**Input**: `candies = [1,1,2,2,3,3]`\n",
        "\n",
        "**Output**: `3`\n",
        "\n",
        "**Explanation**:\n",
        "\n",
        "There are three different kinds of candies `(1, 2 and 3)`, and two candies for each kind.\n",
        "\n",
        "**Optimal distribution**: The sister has candies `[1,2,3]` and the brother has candies `[1,2,3]`, too. \n",
        "\n",
        "The sister has three different kinds of candies\n",
        "\n",
        "**Example 2:**\n",
        "\n",
        "**Input:** `candies = [1,1,2,3]`\n",
        "\n",
        "**Output**: `2`\n",
        "\n",
        "**Explanation**: For example, the sister has candies `[2,3] `and the brother has candies `[1,1]`. \n",
        "\n",
        "The sister has two different kinds of candies, the brother has only one kind of candies. \n",
        "\n",
        "**Note**:\n",
        "\n",
        "The length of the given array is in range `[2, 10,000]`, and will be even.\n",
        "The number in given array is in range `[-100,000, 100,000]`."
      ]
    },
    {
      "cell_type": "code",
      "metadata": {
        "id": "OT7tAXeEye39",
        "colab_type": "code",
        "colab": {}
      },
      "source": [
        "class Solution:\n",
        "    def distributeCandies(self, candies):\n",
        "        return min(len(candies) // 2,len(set(candies)))"
      ],
      "execution_count": 0,
      "outputs": []
    },
    {
      "cell_type": "markdown",
      "metadata": {
        "id": "RqeT4Gk_z3-6",
        "colab_type": "text"
      },
      "source": [
        "### Examples\n"
      ]
    },
    {
      "cell_type": "code",
      "metadata": {
        "id": "zKWLPydCz713",
        "colab_type": "code",
        "outputId": "0941d3d7-b960-4578-ea30-d9aaefb12779",
        "colab": {
          "base_uri": "https://localhost:8080/",
          "height": 35
        }
      },
      "source": [
        "sol = Solution()\n",
        "sol.distributeCandies([1,1,2,2,3,3])"
      ],
      "execution_count": 0,
      "outputs": [
        {
          "output_type": "execute_result",
          "data": {
            "text/plain": [
              "3"
            ]
          },
          "metadata": {
            "tags": []
          },
          "execution_count": 12
        }
      ]
    },
    {
      "cell_type": "code",
      "metadata": {
        "id": "I09_0xMJ0NWw",
        "colab_type": "code",
        "outputId": "4cd1e4f7-475b-4a45-a956-0f8641086504",
        "colab": {
          "base_uri": "https://localhost:8080/",
          "height": 35
        }
      },
      "source": [
        "sol = Solution()\n",
        "sol.distributeCandies([1,1,2,3])"
      ],
      "execution_count": 0,
      "outputs": [
        {
          "output_type": "execute_result",
          "data": {
            "text/plain": [
              "2"
            ]
          },
          "metadata": {
            "tags": []
          },
          "execution_count": 13
        }
      ]
    },
    {
      "cell_type": "markdown",
      "metadata": {
        "id": "bUZ8v12p0SZP",
        "colab_type": "text"
      },
      "source": [
        "### Alternative Solution"
      ]
    },
    {
      "cell_type": "code",
      "metadata": {
        "id": "EvaPCfqKytOi",
        "colab_type": "code",
        "colab": {}
      },
      "source": [
        "import numpy as np\n",
        "class Solution:\n",
        "    def distributeCandies(self, candies):\n",
        "        return min(len(np.unique(np.array(candies))), len(candies)//2)"
      ],
      "execution_count": 0,
      "outputs": []
    },
    {
      "cell_type": "markdown",
      "metadata": {
        "id": "uiRZr69o3YNf",
        "colab_type": "text"
      },
      "source": [
        "## [Palindrome Permutation](https://leetcode.com/articles/palindrome-permutation-ii/)\n",
        "\n",
        "Given a string s, return all the palindromic permutations (without duplicates) of it. Return an empty list if no palindromic permutation could be form.\n",
        "\n",
        "### Example 1\n",
        "\n",
        "\n",
        "\n",
        "```\n",
        "Input: \"aabb\"\n",
        "Output: [\"abba\", \"baab\"]\n",
        "```\n",
        "\n",
        "### Example 2\n",
        "\n",
        "\n",
        "```\n",
        "Input: \"abc\"\n",
        "Output: []\n",
        "```\n",
        "\n",
        "\n",
        "\n"
      ]
    },
    {
      "cell_type": "code",
      "metadata": {
        "id": "MNuKz-1J3pdr",
        "colab_type": "code",
        "colab": {}
      },
      "source": [
        "import collections\n",
        "\n",
        "def shouldSwap(string, start, curr):  \n",
        "  \n",
        "    for i in range(start, curr):  \n",
        "        if string[i] == string[curr]:  \n",
        "            return 0\n",
        "    return 1\n",
        "  \n",
        "def findPermutations(string, index, n):  \n",
        "    list_of_perms = []\n",
        "    if index >= n:  \n",
        "        return [''.join(string)]\n",
        "  \n",
        "    for i in range(index, n):  \n",
        "        check = shouldSwap(string, index, i)\n",
        "        \n",
        "        if check:  \n",
        "            string[index], string[i] = string[i], string[index]\n",
        "            res = findPermutations(string, index + 1, n)\n",
        "            for el in res:\n",
        "              list_of_perms.append(el)\n",
        "            string[index], string[i] = string[i], string[index]\n",
        "    return list_of_perms \n",
        "\n",
        "def palindrome_permutation(s):\n",
        "    char_count = collections.Counter(s)\n",
        "    num_odds = 0\n",
        "    odd_char = ''\n",
        "    for k,v in char_count.items():\n",
        "      if v%2:\n",
        "        num_odds+=1\n",
        "        odd_char = k\n",
        "        if num_odds > 1:\n",
        "          return []\n",
        "    half_palindrome = \"\"\n",
        "    for k,v in char_count.items():\n",
        "      if v%2:\n",
        "        continue\n",
        "      for i in range(v//2):\n",
        "        half_palindrome = half_palindrome+k\n",
        "    list_of_half_pals = findPermutations(list(half_palindrome), 0, len(half_palindrome))\n",
        "    ret = []\n",
        "    for el in list_of_half_pals:\n",
        "      ret.append(el+odd_char+el[::-1])\n",
        "    return ret"
      ],
      "execution_count": 0,
      "outputs": []
    },
    {
      "cell_type": "markdown",
      "metadata": {
        "id": "tP4J6bx2RyOV",
        "colab_type": "text"
      },
      "source": [
        "### Examples\n",
        "\n"
      ]
    },
    {
      "cell_type": "code",
      "metadata": {
        "id": "iVym7G6-R58_",
        "colab_type": "code",
        "outputId": "a073eb38-5b9f-4b34-bc79-e3ccdf48428a",
        "colab": {
          "base_uri": "https://localhost:8080/",
          "height": 35
        }
      },
      "source": [
        "palindrome_permutation(\"aabb\")"
      ],
      "execution_count": 0,
      "outputs": [
        {
          "output_type": "execute_result",
          "data": {
            "text/plain": [
              "['abba', 'baab']"
            ]
          },
          "metadata": {
            "tags": []
          },
          "execution_count": 128
        }
      ]
    },
    {
      "cell_type": "code",
      "metadata": {
        "id": "zH-m58DjR9N0",
        "colab_type": "code",
        "outputId": "7eb40bc3-efcc-4502-b112-a501edd851ee",
        "colab": {
          "base_uri": "https://localhost:8080/",
          "height": 35
        }
      },
      "source": [
        "palindrome_permutation(\"abc\")"
      ],
      "execution_count": 0,
      "outputs": [
        {
          "output_type": "execute_result",
          "data": {
            "text/plain": [
              "[]"
            ]
          },
          "metadata": {
            "tags": []
          },
          "execution_count": 129
        }
      ]
    },
    {
      "cell_type": "markdown",
      "metadata": {
        "id": "9SZtDy-ULdBB",
        "colab_type": "text"
      },
      "source": [
        "## [Maximum Vacation Days](https://segmentfault.com/a/1190000016980728)\n",
        "\n",
        "LeetCode wants to give one of its best employees the option to travel among N cities to collect algorithm problems. But all work and no play makes Jack a dull boy, you could take vacations in some particular cities and weeks. Your job is to schedule the traveling to maximize the number of vacation days you could take, but there are certain rules and restrictions you need to follow.\n",
        "\n",
        "**Rules and restrictions**:\n",
        "\n",
        "You can only travel among N cities, represented by indexes from 0 to N-1. Initially, you are in the city indexed 0 on Monday.\n",
        "\n",
        "\n",
        "The cities are connected by flights. The flights are represented as a N*N matrix (not necessary symmetrical), called flights representing the airline status from the city i to the city j. If there is no flight from the city i to the city j, flightsi = 0; Otherwise, flightsi = 1. Also, flightsi = 0 for all i.\n",
        "\n",
        "\n",
        "You totally have K weeks (each week has 7 days) to travel. You can only take flights at most once per day and can only take flights on each week's Monday morning. Since flight time is so short, we don't consider the impact of flight time.\n",
        "For each city, you can only have restricted vacation days in different weeks, given an N*K matrix called days representing this relationship. For the value of daysi, it represents the maximum days you could take vacation in the city i in the week j.\n",
        "\n",
        "\n",
        "You're given the flights matrix and days matrix, and you need to output the maximum vacation days you could take during K weeks.\n"
      ]
    },
    {
      "cell_type": "code",
      "metadata": {
        "id": "qGfMqWHuL2Yu",
        "colab_type": "code",
        "colab": {}
      },
      "source": [
        "def get_max_vac(flights, days, cur_city, cur_week, prev_vacs=0):\n",
        "  num_weeks = len(days[0])\n",
        "  max_vacs = days[cur_city][cur_week]+prev_vacs\n",
        "  if num_weeks == cur_week+1:\n",
        "    for i in range(len(flights)):\n",
        "        if flights[cur_city][i]:\n",
        "          max_vacs = max(max_vacs, prev_vacs+days[i][cur_week])\n",
        "    return max_vacs\n",
        "  total_vacs = get_max_vac(flights, days, cur_city, cur_week+1, max_vacs)\n",
        "  for i in range(len(flights)):\n",
        "    if flights[cur_city][i]:\n",
        "      cur_vac = days[i][cur_week]+prev_vacs\n",
        "      total_vacs = max(total_vacs, get_max_vac(flights, days, i, cur_week+1, cur_vac))\n",
        "  return total_vacs  \n",
        "\n",
        "\n",
        "def max_vacation_days(flights, days):\n",
        "  return get_max_vac(flights, days, 0, 0)"
      ],
      "execution_count": 0,
      "outputs": []
    },
    {
      "cell_type": "markdown",
      "metadata": {
        "id": "qsW8Y4NQ4kaO",
        "colab_type": "text"
      },
      "source": [
        "### Example 1:\n",
        "\n",
        "`Input:flights = [[0,1,1],[1,0,1],[1,1,0]], days = [[1,3,1],[6,0,3],[3,3,3]]`\n",
        "`Output: 12`\n",
        "\n",
        "\n",
        "**Explanation**: \n",
        "`Ans = 6 + 3 + 3 = 12`. \n",
        "\n",
        "**One of the best strategies is:**\n",
        "\n",
        "*1st week* : fly from city 0 to city 1 on Monday, and play 6 days and work 1 day. \n",
        "(Although you start at city 0, we could also fly to and start at other cities since it is Monday.) \n",
        "\n",
        "*2nd week* : fly from city 1 to city 2 on Monday, and play 3 days and work 4 days.\n",
        "\n",
        "*3rd week *: stay at city 2, and play 3 days and work 4 days."
      ]
    },
    {
      "cell_type": "code",
      "metadata": {
        "id": "0UJ6QvnqvUpO",
        "colab_type": "code",
        "colab": {
          "base_uri": "https://localhost:8080/",
          "height": 35
        },
        "outputId": "273d78fa-0e76-4fd6-8216-ff535b7d2d98"
      },
      "source": [
        "max_vacation_days([[0,1,1],[1,0,1],[1,1,0]],[[1,3,1],[6,0,3],[3,3,3]])"
      ],
      "execution_count": 49,
      "outputs": [
        {
          "output_type": "execute_result",
          "data": {
            "text/plain": [
              "12"
            ]
          },
          "metadata": {
            "tags": []
          },
          "execution_count": 49
        }
      ]
    },
    {
      "cell_type": "markdown",
      "metadata": {
        "id": "P8cKB5Os48XK",
        "colab_type": "text"
      },
      "source": [
        "### Example 2:\n",
        "\n",
        "\n",
        "\n",
        "```\n",
        "Input:flights = [[0,1,1],[1,0,1],[1,1,0]], days = [[7,0,0],[0,7,0],[0,0,7]]\n",
        "Output: 21\n",
        "```\n",
        "\n",
        "\n",
        "**Explanation**: \n",
        "\n",
        "\n",
        "```\n",
        "Ans = 7 + 7 + 7 = 21\n",
        "```\n",
        "\n",
        "\n",
        "\n",
        "**One of the best strategies is**:\n",
        "\n",
        "*1st week* : stay at city 0, and play 7 days. \n",
        "\n",
        "*2nd week* : fly from city 0 to city 1 on Monday, and play 7 days.\n",
        "\n",
        "*3rd week* : fly from city 1 to city 2 on Monday, and play 7 days."
      ]
    },
    {
      "cell_type": "code",
      "metadata": {
        "id": "Y_31BpyYvHpP",
        "colab_type": "code",
        "colab": {
          "base_uri": "https://localhost:8080/",
          "height": 35
        },
        "outputId": "6068c47f-dfe8-4bd7-b619-c29f1b621059"
      },
      "source": [
        "max_vacation_days([[0,1,1],[1,0,1],[1,1,0]], [[7,0,0],[0,7,0],[0,0,7]])"
      ],
      "execution_count": 46,
      "outputs": [
        {
          "output_type": "execute_result",
          "data": {
            "text/plain": [
              "21"
            ]
          },
          "metadata": {
            "tags": []
          },
          "execution_count": 46
        }
      ]
    },
    {
      "cell_type": "markdown",
      "metadata": {
        "id": "k_auD9Rg5cmY",
        "colab_type": "text"
      },
      "source": [
        "### Example 3\n",
        "\n",
        "\n",
        "```\n",
        "\n",
        "Input:flights = [[0,0,0],[0,0,0],[0,0,0]], days = [[1,1,1],[7,7,7],[7,7,7]]\n",
        "Output: 3\n",
        "```\n",
        "\n",
        "\n",
        "**Explanation:** \n",
        "\n",
        "\n",
        "```\n",
        "Ans = 1 + 1 + 1 = 3\n",
        "```\n",
        "\n",
        "Since there is no flights enable you to move to another city, you have to stay at city 0 for the whole 3 weeks. \n",
        "For each week, you only have one day to play and six days to work. \n",
        "So the maximum number of vacation days is 3.\n"
      ]
    },
    {
      "cell_type": "code",
      "metadata": {
        "id": "Hj9ANbcQxELb",
        "colab_type": "code",
        "colab": {
          "base_uri": "https://localhost:8080/",
          "height": 35
        },
        "outputId": "501ea715-6b78-4362-a93e-930e46a2763c"
      },
      "source": [
        "max_vacation_days([[0,0,0],[0,0,0],[0,0,0]], [[1,1,1],[7,7,7],[7,7,7]])"
      ],
      "execution_count": 48,
      "outputs": [
        {
          "output_type": "execute_result",
          "data": {
            "text/plain": [
              "3"
            ]
          },
          "metadata": {
            "tags": []
          },
          "execution_count": 48
        }
      ]
    },
    {
      "cell_type": "code",
      "metadata": {
        "id": "NV5zAVKx3HNn",
        "colab_type": "code",
        "colab": {}
      },
      "source": [
        ""
      ],
      "execution_count": 0,
      "outputs": []
    }
  ]
}